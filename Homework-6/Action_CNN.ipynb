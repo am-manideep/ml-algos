{
 "cells": [
  {
   "cell_type": "markdown",
   "metadata": {},
   "source": [
    "# Training a ConvNet PyTorch\n",
    "\n",
    "In this notebook, you'll learn how to use the powerful PyTorch framework to specify a conv net architecture and train it on the human action recognition dataset. \n"
   ]
  },
  {
   "cell_type": "code",
   "execution_count": 1,
   "metadata": {},
   "outputs": [],
   "source": [
    "import torch\n",
    "import torch.nn as nn\n",
    "import torch.optim as optim\n",
    "from torch.autograd import Variable\n",
    "from torch.utils.data import DataLoader,sampler,Dataset\n",
    "import torchvision.datasets as dset\n",
    "import torchvision.transforms as T\n",
    "import timeit\n",
    "from PIL import Image\n",
    "import os\n",
    "import numpy as np\n",
    "import scipy.io\n"
   ]
  },
  {
   "cell_type": "markdown",
   "metadata": {},
   "source": [
    "## What's this PyTorch business?\n",
    "\n",
    "* When using a framework like PyTorch or TensorFlow you can harness the power of the GPU for your own custom neural network architectures without having to write CUDA code directly.\n",
    "* this notebook will walk you through much of what you need to do to train models using pytorch. if you want to learn more or need further clarification on topics that aren't fully explained here, here are 2 good Pytorch tutorials. 1): http://pytorch.org/tutorials/beginner/deep_learning_60min_blitz.html 2)http://pytorch.org/tutorials/beginner/pytorch_with_examples.html\n",
    "* It's not necessary to have a GPU for this homework, using a GPU can make your code run faster.\n"
   ]
  },
  {
   "cell_type": "markdown",
   "metadata": {},
   "source": [
    "## Load Datasets\n",
    "\n",
    "In this part, we will load the action recognition dataset for the neural network. In order to load data from our custom dataset, we need to write a custom Dataloader. If you put hw6_data.mat, /valClips,/trainClips,/testClips under the folder of ./data/ , you do not need to change anything in this part."
   ]
  },
  {
   "cell_type": "markdown",
   "metadata": {},
   "source": [
    "First, load the labels of the dataset, you should write your path of the hw6_data.mat file."
   ]
  },
  {
   "cell_type": "code",
   "execution_count": 2,
   "metadata": {},
   "outputs": [
    {
     "name": "stdout",
     "output_type": "stream",
     "text": [
      "7770\n",
      "2230\n"
     ]
    }
   ],
   "source": [
    "label_mat=scipy.io.loadmat('./data/hw6_data.mat')\n",
    "label_train=label_mat['trLb']\n",
    "print(len(label_train))\n",
    "label_val=label_mat['valLb']\n",
    "print(len(label_val))"
   ]
  },
  {
   "cell_type": "markdown",
   "metadata": {},
   "source": [
    "### Dataset class\n",
    "\n",
    "torch.utils.data.Dataset is an abstract class representing a dataset. The custom dataset should inherit Dataset and override the following methods:\n",
    "\n",
    "    __len__ so that len(dataset) returns the size of the dataset.\n",
    "    __getitem__ to support the indexing such that dataset[i] can be used to get ith sample\n",
    "\n",
    "Let’s create a dataset class for our action recognition dataset. We will read images in __getitem__. This is memory efficient because all the images are not stored in the memory at once but read as required.\n",
    "\n",
    "Sample of our dataset will be a dict {'image':image,'img_path':img_path,'Label':Label}. Our datset will take an optional argument transform so that any required processing can be applied on the sample. "
   ]
  },
  {
   "cell_type": "code",
   "execution_count": 3,
   "metadata": {},
   "outputs": [],
   "source": [
    "\n",
    "class ActionDataset(Dataset):\n",
    "    \"\"\"Action dataset.\"\"\"\n",
    "\n",
    "    def __init__(self,  root_dir,labels=[], transform=None):\n",
    "        \"\"\"\n",
    "        Args:\n",
    "            root_dir (string): Directory with all the images.\n",
    "            labels(list): labels if images.\n",
    "            transform (callable, optional): Optional transform to be applied on a sample.\n",
    "        \"\"\"\n",
    "        self.root_dir = root_dir\n",
    "        self.transform = transform\n",
    "        self.length=len(os.listdir(self.root_dir))\n",
    "        self.labels=labels\n",
    "    def __len__(self):\n",
    "        return self.length*3\n",
    "\n",
    "    def __getitem__(self, idx):\n",
    "        \n",
    "        folder=int(idx/3)+1\n",
    "        imidx=idx%3+1\n",
    "        folder=format(folder,'05d')\n",
    "        imgname=str(imidx)+'.jpg'\n",
    "        img_path = os.path.join(self.root_dir,\n",
    "                                folder,imgname)\n",
    "        image = Image.open(img_path)\n",
    "        if len(self.labels)!=0:\n",
    "            Label=self.labels[int(idx/3)][0]-1\n",
    "        if self.transform:\n",
    "            image = self.transform(image)\n",
    "        if len(self.labels)!=0:\n",
    "            sample={'image':image,'img_path':img_path,'Label':Label}\n",
    "        else:\n",
    "            sample={'image':image,'img_path':img_path}\n",
    "        return sample\n",
    "  "
   ]
  },
  {
   "cell_type": "markdown",
   "metadata": {},
   "source": [
    "Iterating over the dataset by a for loop."
   ]
  },
  {
   "cell_type": "code",
   "execution_count": 4,
   "metadata": {},
   "outputs": [
    {
     "name": "stdout",
     "output_type": "stream",
     "text": [
      "torch.Size([3, 64, 64])\n",
      "0.0\n",
      "./data/trainClips/00001\\1.jpg\n",
      "torch.Size([3, 64, 64])\n",
      "0.0\n",
      "./data/trainClips/00001\\2.jpg\n",
      "torch.Size([3, 64, 64])\n",
      "0.0\n",
      "./data/trainClips/00001\\3.jpg\n",
      "torch.Size([3, 64, 64])\n",
      "0.0\n",
      "./data/trainClips/00002\\1.jpg\n",
      "torch.Size([3, 64, 64])\n",
      "0.0\n",
      "./data/trainClips/00002\\2.jpg\n",
      "torch.Size([3, 64, 64])\n",
      "0.0\n",
      "./data/trainClips/00002\\3.jpg\n",
      "torch.Size([3, 64, 64])\n",
      "0.0\n",
      "./data/trainClips/00003\\1.jpg\n",
      "torch.Size([3, 64, 64])\n",
      "0.0\n",
      "./data/trainClips/00003\\2.jpg\n",
      "torch.Size([3, 64, 64])\n",
      "0.0\n",
      "./data/trainClips/00003\\3.jpg\n",
      "torch.Size([3, 64, 64])\n",
      "0.0\n",
      "./data/trainClips/00004\\1.jpg\n"
     ]
    }
   ],
   "source": [
    "image_dataset=ActionDataset(root_dir='./data/trainClips/',\\\n",
    "                            labels=label_train,transform=T.ToTensor())\n",
    "\n",
    "#iterating though the dataset\n",
    "for i in range(10):\n",
    "    sample=image_dataset[i]\n",
    "    print(sample['image'].shape)\n",
    "    print(sample['Label'])\n",
    "    print(sample['img_path'])\n",
    "     \n",
    "   "
   ]
  },
  {
   "cell_type": "markdown",
   "metadata": {},
   "source": [
    "We can iterate over the created dataset with a 'for' loop as before. However, we are losing a lot of features by using a simple for loop to iterate over the data. In particular, we are missing out on:\n",
    "\n",
    "* Batching the data\n",
    "* Shuffling the data\n",
    "* Load the data in parallel using multiprocessing workers.\n",
    "\n",
    "torch.utils.data.DataLoader is an iterator which provides all these features. "
   ]
  },
  {
   "cell_type": "code",
   "execution_count": 5,
   "metadata": {},
   "outputs": [
    {
     "name": "stdout",
     "output_type": "stream",
     "text": [
      "0 torch.Size([4, 3, 64, 64]) ['./data/trainClips/00755\\\\2.jpg', './data/trainClips/02950\\\\1.jpg', './data/trainClips/04962\\\\3.jpg', './data/trainClips/06419\\\\2.jpg'] tensor([0., 3., 5., 7.], dtype=torch.float64)\n",
      "1 torch.Size([4, 3, 64, 64]) ['./data/trainClips/02754\\\\1.jpg', './data/trainClips/05648\\\\3.jpg', './data/trainClips/04018\\\\2.jpg', './data/trainClips/06815\\\\3.jpg'] tensor([3., 7., 4., 8.], dtype=torch.float64)\n",
      "2 torch.Size([4, 3, 64, 64]) ['./data/trainClips/05731\\\\3.jpg', './data/trainClips/06594\\\\1.jpg', './data/trainClips/02280\\\\3.jpg', './data/trainClips/00197\\\\2.jpg'] tensor([7., 8., 2., 0.], dtype=torch.float64)\n",
      "3 torch.Size([4, 3, 64, 64]) ['./data/trainClips/05924\\\\2.jpg', './data/trainClips/00158\\\\2.jpg', './data/trainClips/03303\\\\3.jpg', './data/trainClips/00979\\\\2.jpg'] tensor([7., 0., 3., 1.], dtype=torch.float64)\n",
      "4 torch.Size([4, 3, 64, 64]) ['./data/trainClips/02267\\\\1.jpg', './data/trainClips/04578\\\\3.jpg', './data/trainClips/03324\\\\2.jpg', './data/trainClips/03645\\\\3.jpg'] tensor([2., 5., 3., 4.], dtype=torch.float64)\n",
      "5 torch.Size([4, 3, 64, 64]) ['./data/trainClips/00179\\\\1.jpg', './data/trainClips/00230\\\\3.jpg', './data/trainClips/00529\\\\1.jpg', './data/trainClips/02380\\\\2.jpg'] tensor([0., 0., 0., 2.], dtype=torch.float64)\n",
      "6 torch.Size([4, 3, 64, 64]) ['./data/trainClips/02017\\\\1.jpg', './data/trainClips/05049\\\\2.jpg', './data/trainClips/04961\\\\3.jpg', './data/trainClips/02566\\\\3.jpg'] tensor([2., 6., 5., 2.], dtype=torch.float64)\n",
      "7 torch.Size([4, 3, 64, 64]) ['./data/trainClips/05348\\\\3.jpg', './data/trainClips/02480\\\\1.jpg', './data/trainClips/06710\\\\1.jpg', './data/trainClips/05796\\\\3.jpg'] tensor([6., 2., 8., 7.], dtype=torch.float64)\n",
      "8 torch.Size([4, 3, 64, 64]) ['./data/trainClips/01042\\\\2.jpg', './data/trainClips/02674\\\\1.jpg', './data/trainClips/03623\\\\3.jpg', './data/trainClips/00287\\\\3.jpg'] tensor([1., 3., 4., 0.], dtype=torch.float64)\n",
      "9 torch.Size([4, 3, 64, 64]) ['./data/trainClips/02060\\\\1.jpg', './data/trainClips/00489\\\\2.jpg', './data/trainClips/07197\\\\2.jpg', './data/trainClips/06862\\\\1.jpg'] tensor([2., 0., 9., 8.], dtype=torch.float64)\n",
      "10 torch.Size([4, 3, 64, 64]) ['./data/trainClips/06433\\\\3.jpg', './data/trainClips/02729\\\\1.jpg', './data/trainClips/05642\\\\2.jpg', './data/trainClips/05645\\\\2.jpg'] tensor([7., 3., 7., 7.], dtype=torch.float64)\n",
      "11 torch.Size([4, 3, 64, 64]) ['./data/trainClips/01083\\\\2.jpg', './data/trainClips/07363\\\\3.jpg', './data/trainClips/01626\\\\3.jpg', './data/trainClips/03468\\\\3.jpg'] tensor([1., 9., 1., 3.], dtype=torch.float64)\n",
      "12 torch.Size([4, 3, 64, 64]) ['./data/trainClips/06531\\\\2.jpg', './data/trainClips/00906\\\\1.jpg', './data/trainClips/04065\\\\2.jpg', './data/trainClips/00124\\\\3.jpg'] tensor([8., 0., 4., 0.], dtype=torch.float64)\n",
      "13 torch.Size([4, 3, 64, 64]) ['./data/trainClips/03845\\\\1.jpg', './data/trainClips/02054\\\\1.jpg', './data/trainClips/04185\\\\3.jpg', './data/trainClips/05232\\\\3.jpg'] tensor([4., 2., 5., 6.], dtype=torch.float64)\n",
      "14 torch.Size([4, 3, 64, 64]) ['./data/trainClips/04703\\\\3.jpg', './data/trainClips/05318\\\\3.jpg', './data/trainClips/02378\\\\2.jpg', './data/trainClips/05149\\\\2.jpg'] tensor([5., 6., 2., 6.], dtype=torch.float64)\n",
      "15 torch.Size([4, 3, 64, 64]) ['./data/trainClips/03204\\\\3.jpg', './data/trainClips/05434\\\\1.jpg', './data/trainClips/04332\\\\1.jpg', './data/trainClips/01751\\\\1.jpg'] tensor([3., 6., 5., 1.], dtype=torch.float64)\n",
      "16 torch.Size([4, 3, 64, 64]) ['./data/trainClips/02468\\\\2.jpg', './data/trainClips/01126\\\\1.jpg', './data/trainClips/05329\\\\3.jpg', './data/trainClips/00216\\\\1.jpg'] tensor([2., 1., 6., 0.], dtype=torch.float64)\n",
      "17 torch.Size([4, 3, 64, 64]) ['./data/trainClips/05720\\\\3.jpg', './data/trainClips/03688\\\\3.jpg', './data/trainClips/06647\\\\1.jpg', './data/trainClips/00483\\\\1.jpg'] tensor([7., 4., 8., 0.], dtype=torch.float64)\n",
      "18 torch.Size([4, 3, 64, 64]) ['./data/trainClips/04011\\\\3.jpg', './data/trainClips/02720\\\\2.jpg', './data/trainClips/02509\\\\3.jpg', './data/trainClips/04732\\\\1.jpg'] tensor([4., 3., 2., 5.], dtype=torch.float64)\n",
      "19 torch.Size([4, 3, 64, 64]) ['./data/trainClips/05637\\\\1.jpg', './data/trainClips/06896\\\\2.jpg', './data/trainClips/06566\\\\3.jpg', './data/trainClips/05872\\\\1.jpg'] tensor([7., 8., 8., 7.], dtype=torch.float64)\n",
      "20 torch.Size([4, 3, 64, 64]) ['./data/trainClips/02403\\\\1.jpg', './data/trainClips/01438\\\\2.jpg', './data/trainClips/04940\\\\1.jpg', './data/trainClips/05014\\\\1.jpg'] tensor([2., 1., 5., 6.], dtype=torch.float64)\n",
      "21 torch.Size([4, 3, 64, 64]) ['./data/trainClips/01944\\\\3.jpg', './data/trainClips/05620\\\\1.jpg', './data/trainClips/07335\\\\3.jpg', './data/trainClips/06292\\\\3.jpg'] tensor([2., 6., 9., 7.], dtype=torch.float64)\n"
     ]
    }
   ],
   "source": [
    "image_dataloader = DataLoader(image_dataset, batch_size=4,\n",
    "                        shuffle=True, num_workers=0)\n",
    "\n",
    "\n",
    "for i,sample in enumerate(image_dataloader):\n",
    "    sample['image']=sample['image']\n",
    "    print(i,sample['image'].shape,sample['img_path'],sample['Label'])\n",
    "    if i>20: \n",
    "        break"
   ]
  },
  {
   "cell_type": "markdown",
   "metadata": {},
   "source": [
    "Dataloaders for the training, validationg and testing set. "
   ]
  },
  {
   "cell_type": "code",
   "execution_count": 6,
   "metadata": {},
   "outputs": [],
   "source": [
    "image_dataset_train=ActionDataset(root_dir='./data/trainClips/',labels=label_train,transform=T.ToTensor())\n",
    "\n",
    "image_dataloader_train = DataLoader(image_dataset_train, batch_size=32,\n",
    "                        shuffle=True, num_workers=0)\n",
    "image_dataset_val=ActionDataset(root_dir='./data/valClips/',labels=label_val,transform=T.ToTensor())\n",
    "\n",
    "image_dataloader_val = DataLoader(image_dataset_val, batch_size=32,\n",
    "                        shuffle=False, num_workers=0)\n",
    "image_dataset_test=ActionDataset(root_dir='./data/testClips/',labels=[],transform=T.ToTensor())\n",
    "\n",
    "image_dataloader_test = DataLoader(image_dataset_test, batch_size=32,\n",
    "                        shuffle=False, num_workers=0)"
   ]
  },
  {
   "cell_type": "code",
   "execution_count": 7,
   "metadata": {},
   "outputs": [],
   "source": [
    "dtype = torch.FloatTensor # the CPU datatype\n",
    "# Constant to control how frequently we print train loss\n",
    "print_every = 100\n",
    "# This is a little utility that we'll use to reset the model\n",
    "# if we want to re-initialize all our parameters\n",
    "def reset(m):\n",
    "    if hasattr(m, 'reset_parameters'):\n",
    "        m.reset_parameters()"
   ]
  },
  {
   "cell_type": "markdown",
   "metadata": {},
   "source": [
    "## Example Model\n",
    "\n",
    "### Some assorted tidbits\n",
    "\n",
    "Let's start by looking at a simple model. First, note that PyTorch operates on Tensors, which are n-dimensional arrays functionally analogous to numpy's ndarrays, with the additional feature that they can be used for computations on GPUs.\n",
    "\n",
    "We'll provide you with a Flatten function, which we explain here. Remember that our image data (and more relevantly, our intermediate feature maps) are initially N x C x H x W, where:\n",
    "* N is the number of datapoints\n",
    "* C is the number of image channels. \n",
    "* H is the height of the intermediate feature map in pixels\n",
    "* W is the height of the intermediate feature map in pixels\n",
    "\n",
    "This is the right way to represent the data when we are doing something like a 2D convolution, that needs spatial understanding of where the intermediate features are relative to each other. When we input  data into fully connected affine layers, however, we want each datapoint to be represented by a single vector -- it's no longer useful to segregate the different channels, rows, and columns of the data. So, we use a \"Flatten\" operation to collapse the C x H x W values per representation into a single long vector. The Flatten function below first reads in the N, C, H, and W values from a given batch of data, and then returns a \"view\" of that data. \"View\" is analogous to numpy's \"reshape\" method: it reshapes x's dimensions to be N x ??, where ?? is allowed to be anything (in this case, it will be C x H x W, but we don't need to specify that explicitly). "
   ]
  },
  {
   "cell_type": "code",
   "execution_count": 8,
   "metadata": {},
   "outputs": [],
   "source": [
    "class Flatten(nn.Module):\n",
    "    def forward(self, x):\n",
    "        N, C, H, W = x.size() # read in N, C, H, W\n",
    "        return x.view(N, -1)  # \"flatten\" the C * H * W values into a single vector per image"
   ]
  },
  {
   "cell_type": "markdown",
   "metadata": {},
   "source": [
    "### The example model itself\n",
    "\n",
    "The first step to training your own model is defining its architecture.\n",
    "\n",
    "Here's an example of a convolutional neural network defined in PyTorch -- try to understand what each line is doing, remembering that each layer is composed upon the previous layer. We haven't trained anything yet - that'll come next - for now, we want you to understand how everything gets set up.  nn.Sequential is a container which applies each layer\n",
    "one after the other.\n",
    "\n",
    "In this example, you see 2D convolutional layers (Conv2d), ReLU activations, and fully-connected layers (Linear). You also see the Cross-Entropy loss function, and the Adam optimizer being used. \n",
    "\n",
    "Make sure you understand why the parameters of the Linear layer are 10092 and 10.\n"
   ]
  },
  {
   "cell_type": "code",
   "execution_count": 9,
   "metadata": {},
   "outputs": [],
   "source": [
    "# Here's where we define the architecture of the model... \n",
    "simple_model = nn.Sequential(\n",
    "                nn.Conv2d(3, 32, kernel_size=7, stride=2),\n",
    "                nn.ReLU(inplace=True),\n",
    "                Flatten(), # see above for explanation\n",
    "                nn.Linear(10092, 10), # affine layer\n",
    "              )\n",
    "\n",
    "# Set the type of all data in this model to be FloatTensor \n",
    "simple_model.type(dtype)\n",
    "\n",
    "loss_fn = nn.CrossEntropyLoss().type(dtype)\n",
    "optimizer = optim.Adam(simple_model.parameters(), lr=1e-2) # lr sets the learning rate of the optimizer"
   ]
  },
  {
   "cell_type": "markdown",
   "metadata": {},
   "source": [
    "PyTorch supports many other layer types, loss functions, and optimizers - you will experiment with these next. Here's the official API documentation for these (if any of the parameters used above were unclear, this resource will also be helpful). \n",
    "\n",
    "* Layers: http://pytorch.org/docs/nn.html\n",
    "* Activations: http://pytorch.org/docs/nn.html#non-linear-activations\n",
    "* Loss functions: http://pytorch.org/docs/nn.html#loss-functions\n",
    "* Optimizers: http://pytorch.org/docs/optim.html#algorithms"
   ]
  },
  {
   "cell_type": "markdown",
   "metadata": {},
   "source": [
    "## Training a specific model\n",
    "\n",
    "In this section, we're going to specify a model for you to construct. The goal here isn't to get good performance (that'll be next), but instead to get comfortable with understanding the PyTorch documentation and configuring your own model. \n",
    "\n",
    "Using the code provided above as guidance, and using the following PyTorch documentation, specify a model with the following architecture:\n",
    "\n",
    "* 7x7 Convolutional Layer with 8 filters and stride of 1\n",
    "* ReLU Activation Layer\n",
    "* 2x2 Max Pooling layer with a stride of 2\n",
    "* 7x7 Convolutional Layer with 16 filters and stride of 1\n",
    "* ReLU Activation Layer\n",
    "* 2x2 Max Pooling layer with a stride of 2\n",
    "* Flatten the feature map\n",
    "* ReLU Activation Layer\n",
    "* Affine layer to map input units to 10 outputs, you need to figure out the input size here.\n"
   ]
  },
  {
   "cell_type": "code",
   "execution_count": 10,
   "metadata": {},
   "outputs": [],
   "source": [
    "fixed_model_base = nn.Sequential( \n",
    "    #########1st TODO  (10 points)###################\n",
    "    nn.Conv2d(3, 8, kernel_size=7, stride=1),\n",
    "    nn.ReLU(inplace=True),\n",
    "    nn.MaxPool2d(kernel_size=2, stride=2, padding=0),\n",
    "    nn.Conv2d(8, 16, kernel_size=7, stride=1),\n",
    "    nn.ReLU(inplace=True),\n",
    "    nn.MaxPool2d(kernel_size=2, stride=2, padding=0),\n",
    "    Flatten(), # see above for explanation\n",
    "    nn.ReLU(inplace=True),\n",
    "    nn.Linear(1936, 10),\n",
    "    ####################################\n",
    "            )\n",
    "fixed_model = fixed_model_base.type(dtype)\n",
    "\n"
   ]
  },
  {
   "cell_type": "markdown",
   "metadata": {},
   "source": [
    "To make sure you're doing the right thing, use the following tool to check the dimensionality of your output (it should be 32 x 10, since our batches have size 32 and the output of the final affine layer should be 10, corresponding to our 10 classes):"
   ]
  },
  {
   "cell_type": "code",
   "execution_count": 11,
   "metadata": {},
   "outputs": [
    {
     "name": "stdout",
     "output_type": "stream",
     "text": [
      "[32 10]\n"
     ]
    },
    {
     "data": {
      "text/plain": [
       "True"
      ]
     },
     "execution_count": 11,
     "metadata": {},
     "output_type": "execute_result"
    }
   ],
   "source": [
    "## Now we're going to feed a random batch into the model you defined and make sure the output is the right size\n",
    "x = torch.randn(32, 3, 64, 64).type(dtype)\n",
    "x_var = Variable(x.type(dtype)) # Construct a PyTorch Variable out of your input data\n",
    "ans = fixed_model(x_var)        # Feed it through the model! \n",
    "\n",
    "# Check to make sure what comes out of your model\n",
    "# is the right dimensionality... this should be True\n",
    "# if you've done everything correctly\n",
    "print(np.array(ans.size()))\n",
    "np.array_equal(np.array(ans.size()), np.array([32, 10]))   \n"
   ]
  },
  {
   "cell_type": "markdown",
   "metadata": {},
   "source": [
    "### Train the model.\n",
    "\n",
    "Now that you've seen how to define a model and do a single forward pass of some data through it, let's  walk through how you'd actually train one whole epoch over your training data (using the fixed_model_base we provided above).\n",
    "\n",
    "Make sure you understand how each PyTorch function used below corresponds to what you implemented in your custom neural network implementation.\n",
    "\n",
    "Note that because we are not resetting the weights anywhere below, if you run the cell multiple times, you are effectively training multiple epochs (so your performance should improve).\n",
    "\n",
    "First, set up an RMSprop optimizer (using a 1e-4 learning rate) and a cross-entropy loss function:"
   ]
  },
  {
   "cell_type": "code",
   "execution_count": 12,
   "metadata": {},
   "outputs": [],
   "source": [
    "################ 2nd TODO  (5 points)##################\n",
    "optimizer = optim.RMSprop(fixed_model.parameters(), lr= 1e-4)\n",
    "loss_fn = torch.nn.CrossEntropyLoss()\n"
   ]
  },
  {
   "cell_type": "code",
   "execution_count": 14,
   "metadata": {},
   "outputs": [
    {
     "name": "stderr",
     "output_type": "stream",
     "text": [
      "C:\\Users\\aks03\\Anaconda3\\envs\\torch-gpu\\lib\\site-packages\\ipykernel_launcher.py:20: UserWarning: invalid index of a 0-dim tensor. This will be an error in PyTorch 0.5. Use tensor.item() to convert a 0-dim tensor to a Python number\n"
     ]
    },
    {
     "name": "stdout",
     "output_type": "stream",
     "text": [
      "t = 100, loss = 1.8216\n",
      "t = 200, loss = 1.7458\n",
      "t = 300, loss = 1.7440\n",
      "t = 400, loss = 1.5162\n",
      "t = 500, loss = 1.5341\n",
      "t = 600, loss = 1.5007\n",
      "t = 700, loss = 1.1439\n"
     ]
    }
   ],
   "source": [
    "# This sets the model in \"training\" mode. \n",
    "# This is relevant for some layers that may have different behavior\n",
    "# in training mode vs testing mode, such as Dropout and BatchNorm. \n",
    "fixed_model.train()\n",
    "\n",
    "# Load one batch at a time.\n",
    "for t, sample in enumerate(image_dataloader_train):\n",
    "    x_var = Variable(sample['image'])\n",
    "    #print(type(x_var.data))\n",
    "    #print(x_var.shape)\n",
    "    y_var = Variable(sample['Label']).long()\n",
    "\n",
    "    # This is the forward pass: predict the scores for each class, for each x in the batch.\n",
    "    scores = fixed_model(x_var)\n",
    "    \n",
    "    # Use the correct y values and the predicted y values to compute the loss.\n",
    "    loss = loss_fn(scores, y_var)\n",
    "    \n",
    "    if (t + 1) % print_every == 0:\n",
    "        print('t = %d, loss = %.4f' % (t + 1, loss.data[0]))\n",
    "\n",
    "    # Zero out all of the gradients for the variables which the optimizer will update.\n",
    "    optimizer.zero_grad()\n",
    "    \n",
    "    # This is the backwards pass: compute the gradient of the loss with respect to each \n",
    "    # parameter of the model.\n",
    "    loss.backward()\n",
    "    \n",
    "    # Actually update the parameters of the model using the gradients computed by the backwards pass.\n",
    "    optimizer.step()\n",
    "   "
   ]
  },
  {
   "cell_type": "markdown",
   "metadata": {},
   "source": [
    "Now you've seen how the training process works in PyTorch. To save you writing boilerplate code, we're providing the following helper functions to help you train for multiple epochs and check the accuracy of your model:"
   ]
  },
  {
   "cell_type": "code",
   "execution_count": 13,
   "metadata": {},
   "outputs": [],
   "source": [
    "def train(model, loss_fn, optimizer, dataloader, num_epochs = 1):\n",
    "    for epoch in range(num_epochs):\n",
    "        print('Starting epoch %d / %d' % (epoch + 1, num_epochs))\n",
    "        model.train()\n",
    "        for t, sample in enumerate(dataloader):\n",
    "            x_var = Variable(sample['image'])\n",
    "            y_var = Variable(sample['Label'].long())\n",
    "\n",
    "            scores = model(x_var)\n",
    "            \n",
    "            loss = loss_fn(scores, y_var)\n",
    "            if (t + 1) % print_every == 0:\n",
    "                print('t = %d, loss = %.4f' % (t + 1, loss.data[0]))\n",
    "\n",
    "            optimizer.zero_grad()\n",
    "            loss.backward()\n",
    "            optimizer.step()\n",
    "\n",
    "def check_accuracy(model, loader):\n",
    "    '''\n",
    "    if loader.dataset.train:\n",
    "        print('Checking accuracy on validation set')\n",
    "    else:\n",
    "        print('Checking accuracy on test set')  \n",
    "    '''\n",
    "    num_correct = 0\n",
    "    num_samples = 0\n",
    "    model.eval() # Put the model in test mode (the opposite of model.train(), essentially)\n",
    "    for t, sample in enumerate(loader):\n",
    "        x_var = Variable(sample['image'])\n",
    "        y_var = sample['Label']\n",
    "        #y_var=y_var.cpu()\n",
    "        scores = model(x_var)\n",
    "        _, preds = scores.data.max(1)#scores.data.cpu().max(1)\n",
    "        #print(preds)\n",
    "        #print(y_var)\n",
    "        num_correct += (preds.numpy() == y_var.numpy()).sum()\n",
    "        num_samples += preds.size(0)\n",
    "    acc = float(num_correct) / num_samples\n",
    "    print('Got %d / %d correct (%.2f)' % (num_correct, num_samples, 100 * acc))\n",
    "    \n",
    "    \n",
    "\n"
   ]
  },
  {
   "cell_type": "markdown",
   "metadata": {},
   "source": [
    "### Check the accuracy of the model.\n",
    "\n",
    "Let's see the train and check_accuracy code in action -- feel free to use these methods when evaluating the models you develop below.\n",
    "\n",
    "You should get a training loss of around 1.0-1.2, and a validation accuracy of around 50-60%. As mentioned above, if you re-run the cells, you'll be training more epochs, so your performance will improve past these numbers.\n",
    "\n",
    "But don't worry about getting these numbers better -- this was just practice before you tackle designing your own model."
   ]
  },
  {
   "cell_type": "code",
   "execution_count": 16,
   "metadata": {},
   "outputs": [
    {
     "name": "stdout",
     "output_type": "stream",
     "text": [
      "Starting epoch 1 / 1\n"
     ]
    },
    {
     "name": "stderr",
     "output_type": "stream",
     "text": [
      "C:\\Users\\aks03\\Anaconda3\\envs\\torch-gpu\\lib\\site-packages\\ipykernel_launcher.py:13: UserWarning: invalid index of a 0-dim tensor. This will be an error in PyTorch 0.5. Use tensor.item() to convert a 0-dim tensor to a Python number\n",
      "  del sys.path[0]\n"
     ]
    },
    {
     "name": "stdout",
     "output_type": "stream",
     "text": [
      "t = 100, loss = 2.2052\n",
      "t = 200, loss = 2.0495\n",
      "t = 300, loss = 1.8789\n",
      "t = 400, loss = 1.6659\n",
      "t = 500, loss = 1.6154\n",
      "t = 600, loss = 1.4748\n",
      "t = 700, loss = 1.5280\n",
      "Got 11969 / 23310 correct (51.35)\n"
     ]
    }
   ],
   "source": [
    "torch.random.manual_seed(12345)\n",
    "fixed_model.cpu()\n",
    "fixed_model.apply(reset) \n",
    "fixed_model.train() \n",
    "train(fixed_model, loss_fn, optimizer,image_dataloader_train, num_epochs=1) \n",
    "check_accuracy(fixed_model, image_dataloader_train)# check accuracy on the training set\n"
   ]
  },
  {
   "cell_type": "markdown",
   "metadata": {},
   "source": [
    "### Don't forget the validation set!\n",
    "\n",
    "And note that you can use the check_accuracy function to evaluate on the validation set, by passing **image_dataloader_val** as the second argument to check_accuracy. The accuracy on validation set is arround 40-50%."
   ]
  },
  {
   "cell_type": "code",
   "execution_count": 17,
   "metadata": {},
   "outputs": [
    {
     "name": "stdout",
     "output_type": "stream",
     "text": [
      "Got 2989 / 6690 correct (44.68)\n"
     ]
    }
   ],
   "source": [
    "check_accuracy(fixed_model, image_dataloader_val)#check accuracy on the validation set"
   ]
  },
  {
   "cell_type": "markdown",
   "metadata": {},
   "source": [
    "##### Train a better  model for action recognition!\n",
    "\n",
    "Now it's your job to experiment with architectures, hyperparameters, loss functions, and optimizers to train a model that achieves better accuracy on the action recognition **validation** set. You can use the check_accuracy and train functions from above."
   ]
  },
  {
   "cell_type": "markdown",
   "metadata": {},
   "source": [
    "### Things you should try:\n",
    "- **Filter size**: Above we used 7x7; this makes pretty pictures but smaller filters may be more efficient\n",
    "- **Number of filters**: Do more or fewer do better?\n",
    "- **Pooling vs Strided Convolution**: Do you use max pooling or just stride convolutions?\n",
    "- **Batch normalization**: Try adding spatial batch normalization after convolution layers and vanilla batch normalization after affine layers. Do your networks train faster?\n",
    "- **Network architecture**: The network above has two layers of trainable parameters. Can you do better with a deep network? Good architectures to try include:\n",
    "    - [conv-relu-pool]xN -> [affine]xM -> [softmax or SVM]\n",
    "    - [conv-relu-conv-relu-pool]xN -> [affine]xM -> [softmax or SVM]\n",
    "    - [batchnorm-relu-conv]xN -> [affine]xM -> [softmax or SVM]\n",
    "- **Global Average Pooling**: Instead of flattening and then having multiple affine layers, perform convolutions until your image gets small (7x7 or so) and then perform an average pooling operation to get to a 1x1 image picture (1, 1 , Filter#), which is then reshaped into a (Filter#) vector. This is used in [Google's Inception Network](https://arxiv.org/abs/1512.00567) (See Table 1 for their architecture).\n",
    "- **Regularization**: Add l2 weight regularization, or perhaps use Dropout.\n",
    "\n",
    "### Tips for training\n",
    "For each network architecture that you try, you should tune the learning rate and regularization strength. When doing this there are a couple important things to keep in mind:\n",
    "\n",
    "- If the parameters are working well, you should see improvement within a few hundred iterations\n",
    "- Remember the coarse-to-fine approach for hyperparameter tuning: start by testing a large range of hyperparameters for just a few training iterations to find the combinations of parameters that are working at all.\n",
    "- Once you have found some sets of parameters that seem to work, search more finely around these parameters. You may need to train for more epochs.\n",
    "- You should use the validation set for hyperparameter search, and save your test set for evaluating your architecture on the best parameters as selected by the validation set.\n",
    "\n",
    "### Going above and beyond\n",
    "If you are feeling adventurous there are many other features you can implement to try and improve your performance. You are **not required** to implement any of these; however they would be good things to try.\n",
    "\n",
    "- Alternative update steps: For the assignment we implemented SGD+momentum, RMSprop, and Adam; you could try alternatives like AdaGrad or AdaDelta.\n",
    "- Alternative activation functions such as leaky ReLU, parametric ReLU, ELU, or MaxOut.\n",
    "- Model ensembles\n",
    "- Data augmentation\n",
    "- New Architectures\n",
    "  - [ResNets](https://arxiv.org/abs/1512.03385) where the input from the previous layer is added to the output.\n",
    "  - [DenseNets](https://arxiv.org/abs/1608.06993) where inputs into previous layers are concatenated together.\n",
    "  - [This blog has an in-depth overview](https://chatbotslife.com/resnets-highwaynets-and-densenets-oh-my-9bb15918ee32)\n",
    "\n",
    "If you do decide to implement something extra, clearly describe it in the \"Extra Credit Description\" cell below.\n",
    "\n",
    "### What we expect\n",
    "At the very least, you should be able to train a ConvNet that gets at least 55% accuracy on the validation set. This is just a lower bound - if you are careful it should be possible to get accuracies much higher than that! Extra credit points will be awarded for particularly high-scoring models or unique approaches.\n",
    "\n",
    "You should use the space below to experiment and train your network. \n",
    "\n"
   ]
  },
  {
   "cell_type": "code",
   "execution_count": 67,
   "metadata": {},
   "outputs": [],
   "source": [
    "###########3rd TODO (20 points, must submit the results to Kaggle) ##############\n",
    "# Train your model here, and make sure the output of this cell is the accuracy of your best model on the \n",
    "# train, val, and test sets. Here's some code to get you started. The output of this cell should be the training\n",
    "# and validation accuracy on your best model (measured by validation accuracy).\n",
    "\n",
    "model_base = nn.Sequential(\n",
    "    nn.Conv2d(3, 32, kernel_size=5, stride=1),\n",
    "    nn.ReLU(inplace=True),\n",
    "    nn.MaxPool2d(kernel_size=2, stride=2),\n",
    "    #nn.BatchNorm2d(64),\n",
    "    #nn.Dropout(0.1),\n",
    "    \n",
    "    nn.Conv2d(32, 64, kernel_size=3, stride=1),\n",
    "    nn.ReLU(inplace=True),\n",
    "    nn.MaxPool2d(kernel_size=2, stride=2),\n",
    "    #nn.BatchNorm2d(128),\n",
    "    #nn.Dropout(0.2),\n",
    "    \n",
    "    nn.Conv2d(64, 128, kernel_size=3, stride=1),\n",
    "    nn.ReLU(inplace=True),\n",
    "    nn.MaxPool2d(kernel_size=2, stride=2),\n",
    "    #nn.BatchNorm2d(128),\n",
    "    #nn.Dropout(0.2),\n",
    "    \n",
    "    Flatten(), # see above for explanation\n",
    "    nn.Linear(4608, 1000),\n",
    "    nn.Dropout(0.5),\n",
    "    nn.Linear(1000, 500),\n",
    "    nn.Dropout(0.5),\n",
    "    nn.Linear(500, 10),\n",
    "    nn.LogSoftmax()\n",
    "            )\n",
    "model = model_base.type(dtype)\n",
    "loss_fn = torch.nn.CrossEntropyLoss().type(dtype)\n",
    "optimizer = optim.RMSprop(model.parameters(), lr= 1e-4)\n",
    "\n",
    "#train(model, loss_fn, optimizer, image_dataloader_train, num_epochs=5)\n",
    "#check_accuracy(model, image_dataloader_train)\n",
    "#check_accuracy(model, image_dataloader_val)"
   ]
  },
  {
   "cell_type": "markdown",
   "metadata": {},
   "source": [
    "### Describe what you did \n",
    "\n",
    "In the cell below you should write an explanation of what you did, any additional features that you implemented, and any visualizations or graphs that you make in the process of training and evaluating your network."
   ]
  },
  {
   "cell_type": "markdown",
   "metadata": {},
   "source": [
    "### Tell us here!\n",
    "###########4th TODO (5 points) ##############\n",
    "1. 5X5 convolution layer with 32 filters and stride 1.\n",
    "2. ReLU layer.\n",
    "3. Max Pool layer with size 2X2 and stride 2.\n",
    "4. 3X3 convolution layer with 64 filters and stride 1.\n",
    "5. ReLU layer.\n",
    "6. Max Pool layer with size 2X2 and stride 2.\n",
    "7. 3X3 convolution layer with 128 filters and stride 1.\n",
    "8. ReLU layer.\n",
    "9. Max Pool layer with size 2X2 and stride 2.\n",
    "10. Flatten.\n",
    "11. Affine Layer to reduce inputs from 4608 to 1000.\n",
    "12. Dropout with penalty 0.5.\n",
    "13. Affine Layer to reduce inputs from 1000 to 500.\n",
    "14. Dropout with penalty 0.5.\n",
    "15. Affine Layer to reduce inputs from 500 to 10.\n",
    "16. LogSoftmax.\n",
    "\n",
    "Tried for various kernel sizes and filters and found that model works better for less kernel size. Tried Batch Normalization and Dropout after each convolution but didn't find improvement.\n",
    "Ran on GPU as CPU was taking a very long time and recorded accuracies on train and validation data.\n",
    "Num epochs: 10\n",
    "Training Set Accuracy: 99.88\n",
    "Validation Set Accuracy: 67.10\n",
    "\n",
    "These can be verified at bottom where model is run using GPU."
   ]
  },
  {
   "cell_type": "markdown",
   "metadata": {},
   "source": [
    "### Testing the model and submit on Kaggle\n",
    "Testing the model on the testing set and save the results as a .csv file. \n",
    "Please submitted the results.csv file generated by predict_on_test() to Kaggle(https://www.kaggle.com/c/cse512springhw3) to see how well your network performs on the test set. \n",
    "#######5th TODO (submit the result to Kaggle, the highest 3 entries get extra 10 points )###############"
   ]
  },
  {
   "cell_type": "code",
   "execution_count": 68,
   "metadata": {},
   "outputs": [
    {
     "name": "stdout",
     "output_type": "stream",
     "text": [
      "9810\n"
     ]
    }
   ],
   "source": [
    "def predict_on_test(model, loader):\n",
    "    '''\n",
    "    if loader.dataset.train:\n",
    "        print('Checking accuracy on validation set')\n",
    "    else:\n",
    "        print('Checking accuracy on test set')  \n",
    "    '''\n",
    "    num_correct = 0\n",
    "    num_samples = 0\n",
    "    model.eval() # Put the model in test mode (the opposite of model.train(), essentially)\n",
    "    results=open('results.csv','w')\n",
    "    count=0\n",
    "    results.write('Id'+','+'Class'+'\\n')\n",
    "    for t, sample in enumerate(loader):\n",
    "        x_var = Variable(sample['image']).cuda()\n",
    "        scores = model(x_var)\n",
    "        _, preds = scores.data.cpu().max(1)\n",
    "        for i in range(len(preds)):\n",
    "            results.write(str(count)+','+str(preds[i].numpy())+'\\n')\n",
    "            count+=1\n",
    "    results.close()\n",
    "    return count\n",
    "    \n",
    "count=predict_on_test(fixed_model_gpu, image_dataloader_test)\n",
    "print(count)"
   ]
  },
  {
   "cell_type": "markdown",
   "metadata": {},
   "source": [
    "### GPU! (This part is optional, 0 points)\n",
    "\n",
    "If you have access to GPU, you can make the code run on GPU, it would be much faster. \n",
    "\n",
    "Now, we're going to switch the dtype of the model and our data to the GPU-friendly tensors, and see what happens... everything is the same, except we are casting our model and input tensors as this new dtype instead of the old one.\n",
    "\n",
    "If this returns false, or otherwise fails in a not-graceful way (i.e., with some error message), you may not have an NVIDIA GPU available on your machine. "
   ]
  },
  {
   "cell_type": "code",
   "execution_count": 69,
   "metadata": {},
   "outputs": [
    {
     "data": {
      "text/plain": [
       "True"
      ]
     },
     "execution_count": 69,
     "metadata": {},
     "output_type": "execute_result"
    }
   ],
   "source": [
    "# Verify that CUDA is properly configured and you have a GPU available\n",
    "\n",
    "torch.cuda.is_available()"
   ]
  },
  {
   "cell_type": "code",
   "execution_count": 70,
   "metadata": {},
   "outputs": [
    {
     "data": {
      "text/plain": [
       "True"
      ]
     },
     "execution_count": 70,
     "metadata": {},
     "output_type": "execute_result"
    }
   ],
   "source": [
    "import copy\n",
    "gpu_dtype = torch.cuda.FloatTensor\n",
    "\n",
    "fixed_model_gpu = copy.deepcopy(model_base)#.type(gpu_dtype)\n",
    "fixed_model_gpu.cuda()\n",
    "x_gpu = torch.randn(4, 3, 64, 64).cuda()#.type(gpu_dtype)\n",
    "x_var_gpu = Variable(x_gpu)#type(gpu_dtype)) # Construct a PyTorch Variable out of your input data\n",
    "ans = fixed_model_gpu(x_var_gpu)        # Feed it through the model! \n",
    "\n",
    "# Check to make sure what comes out of your model\n",
    "# is the right dimensionality... this should be True\n",
    "# if you've done everything correctly\n",
    "np.array_equal(np.array(ans.size()), np.array([4, 10]))\n"
   ]
  },
  {
   "cell_type": "markdown",
   "metadata": {},
   "source": [
    "Run the following cell to evaluate the performance of the forward pass running on the CPU:"
   ]
  },
  {
   "cell_type": "code",
   "execution_count": null,
   "metadata": {
    "collapsed": true
   },
   "outputs": [],
   "source": [
    "%%timeit \n",
    "ans = fixed_model(x_var)"
   ]
  },
  {
   "cell_type": "markdown",
   "metadata": {},
   "source": [
    "... and now the GPU:"
   ]
  },
  {
   "cell_type": "code",
   "execution_count": 16,
   "metadata": {},
   "outputs": [
    {
     "name": "stdout",
     "output_type": "stream",
     "text": [
      "117 ms ± 83.6 µs per loop (mean ± std. dev. of 7 runs, 10 loops each)\n"
     ]
    }
   ],
   "source": [
    "%%timeit \n",
    "torch.cuda.synchronize() # Make sure there are no pending GPU computations\n",
    "ans = fixed_model_gpu(x_var_gpu)        # Feed it through the model! \n",
    "torch.cuda.synchronize() # Make sure there are no pending GPU computations"
   ]
  },
  {
   "cell_type": "markdown",
   "metadata": {},
   "source": [
    "You should observe that even a simple forward pass like this is significantly faster on the GPU. So for the rest of the assignment (and when you go train your models in assignment 3 and your project!), you should use the GPU datatype for your model and your tensors: as a reminder that is *torch.cuda.FloatTensor* (in our notebook here as *gpu_dtype*)"
   ]
  },
  {
   "cell_type": "markdown",
   "metadata": {},
   "source": [
    "Let's make the loss function and training variables to GPU friendly format by '.cuda()'"
   ]
  },
  {
   "cell_type": "code",
   "execution_count": 71,
   "metadata": {},
   "outputs": [],
   "source": [
    "loss_fn = nn.CrossEntropyLoss().cuda()\n",
    "optimizer = optim.RMSprop(fixed_model_gpu.parameters(), lr=1e-4)"
   ]
  },
  {
   "cell_type": "code",
   "execution_count": 72,
   "metadata": {},
   "outputs": [],
   "source": [
    "def train(model, loss_fn, optimizer, dataloader, num_epochs = 1):\n",
    "    for epoch in range(num_epochs):\n",
    "        print('Starting epoch %d / %d' % (epoch + 1, num_epochs))\n",
    "        model.train()\n",
    "        for t, sample in enumerate(dataloader):\n",
    "            x_var = Variable(sample['image'].cuda())\n",
    "            y_var = Variable(sample['Label'].cuda().long())\n",
    "\n",
    "            scores = model(x_var)\n",
    "            \n",
    "            loss = loss_fn(scores, y_var)\n",
    "            if (t + 1) % print_every == 0:\n",
    "                print('t = %d, loss = %.4f' % (t + 1, loss.data[0]))\n",
    "\n",
    "            optimizer.zero_grad()\n",
    "            loss.backward()\n",
    "            optimizer.step()\n",
    "\n",
    "def check_accuracy(model, loader):\n",
    "    '''\n",
    "    if loader.dataset.train:\n",
    "        print('Checking accuracy on validation set')\n",
    "    else:\n",
    "        print('Checking accuracy on test set')  \n",
    "    '''\n",
    "    num_correct = 0\n",
    "    num_samples = 0\n",
    "    model.eval() # Put the model in test mode (the opposite of model.train(), essentially)\n",
    "    for t, sample in enumerate(loader):\n",
    "        x_var = Variable(sample['image'].cuda())\n",
    "        y_var = sample['Label'].cuda()\n",
    "        y_var=y_var.cpu()\n",
    "        scores = model(x_var)\n",
    "        _, preds = scores.data.cpu().max(1)\n",
    "        #print(preds)\n",
    "        #print(y_var)\n",
    "        num_correct += (preds.numpy() == y_var.numpy()).sum()\n",
    "        num_samples += preds.size(0)\n",
    "    acc = float(num_correct) / num_samples\n",
    "    print('Got %d / %d correct (%.2f)' % (num_correct, num_samples, 100 * acc))"
   ]
  },
  {
   "cell_type": "markdown",
   "metadata": {},
   "source": [
    "Run on GPU!"
   ]
  },
  {
   "cell_type": "code",
   "execution_count": 73,
   "metadata": {},
   "outputs": [
    {
     "name": "stdout",
     "output_type": "stream",
     "text": [
      "Starting epoch 1 / 10\n"
     ]
    },
    {
     "name": "stderr",
     "output_type": "stream",
     "text": [
      "C:\\Users\\aks03\\Anaconda3\\envs\\torch-gpu\\lib\\site-packages\\ipykernel_launcher.py:13: UserWarning: invalid index of a 0-dim tensor. This will be an error in PyTorch 0.5. Use tensor.item() to convert a 0-dim tensor to a Python number\n",
      "  del sys.path[0]\n"
     ]
    },
    {
     "name": "stdout",
     "output_type": "stream",
     "text": [
      "t = 100, loss = 1.5216\n",
      "t = 200, loss = 0.9835\n",
      "t = 300, loss = 0.7223\n",
      "t = 400, loss = 0.6445\n",
      "t = 500, loss = 0.6357\n",
      "t = 600, loss = 0.6958\n",
      "t = 700, loss = 0.3404\n",
      "Starting epoch 2 / 10\n",
      "t = 100, loss = 0.4645\n",
      "t = 200, loss = 0.5449\n",
      "t = 300, loss = 0.3658\n",
      "t = 400, loss = 0.2608\n",
      "t = 500, loss = 0.1276\n",
      "t = 600, loss = 0.2211\n",
      "t = 700, loss = 0.2009\n",
      "Starting epoch 3 / 10\n",
      "t = 100, loss = 0.0910\n",
      "t = 200, loss = 0.1330\n",
      "t = 300, loss = 0.0688\n",
      "t = 400, loss = 0.1134\n",
      "t = 500, loss = 0.1488\n",
      "t = 600, loss = 0.1112\n",
      "t = 700, loss = 0.0956\n",
      "Starting epoch 4 / 10\n",
      "t = 100, loss = 0.0819\n",
      "t = 200, loss = 0.0285\n",
      "t = 300, loss = 0.1021\n",
      "t = 400, loss = 0.2671\n",
      "t = 500, loss = 0.4014\n",
      "t = 600, loss = 0.1471\n",
      "t = 700, loss = 0.1230\n",
      "Starting epoch 5 / 10\n",
      "t = 100, loss = 0.1179\n",
      "t = 200, loss = 0.0218\n",
      "t = 300, loss = 0.1528\n",
      "t = 400, loss = 0.0294\n",
      "t = 500, loss = 0.0045\n",
      "t = 600, loss = 0.0205\n",
      "t = 700, loss = 0.0112\n",
      "Starting epoch 6 / 10\n",
      "t = 100, loss = 0.0086\n",
      "t = 200, loss = 0.0712\n",
      "t = 300, loss = 0.0182\n",
      "t = 400, loss = 0.0204\n",
      "t = 500, loss = 0.0283\n",
      "t = 600, loss = 0.0134\n",
      "t = 700, loss = 0.0105\n",
      "Starting epoch 7 / 10\n",
      "t = 100, loss = 0.0394\n",
      "t = 200, loss = 0.0097\n",
      "t = 300, loss = 0.0471\n",
      "t = 400, loss = 0.0161\n",
      "t = 500, loss = 0.0027\n",
      "t = 600, loss = 0.1543\n",
      "t = 700, loss = 0.0022\n",
      "Starting epoch 8 / 10\n",
      "t = 100, loss = 0.0034\n",
      "t = 200, loss = 0.0358\n",
      "t = 300, loss = 0.0068\n",
      "t = 400, loss = 0.0149\n",
      "t = 500, loss = 0.0018\n",
      "t = 600, loss = 0.0455\n",
      "t = 700, loss = 0.0073\n",
      "Starting epoch 9 / 10\n",
      "t = 100, loss = 0.0227\n",
      "t = 200, loss = 0.0047\n",
      "t = 300, loss = 0.0026\n",
      "t = 400, loss = 0.0371\n",
      "t = 500, loss = 0.0054\n",
      "t = 600, loss = 0.0024\n",
      "t = 700, loss = 0.0136\n",
      "Starting epoch 10 / 10\n",
      "t = 100, loss = 0.0170\n",
      "t = 200, loss = 0.0128\n",
      "t = 300, loss = 0.0258\n",
      "t = 400, loss = 0.0017\n",
      "t = 500, loss = 0.0262\n",
      "t = 600, loss = 0.0023\n",
      "t = 700, loss = 0.0028\n",
      "Got 23282 / 23310 correct (99.88)\n",
      "Got 4489 / 6690 correct (67.10)\n"
     ]
    }
   ],
   "source": [
    "torch.cuda.random.manual_seed(12345)\n",
    "\n",
    "fixed_model_gpu.apply(reset) \n",
    "fixed_model_gpu.train() \n",
    "train(fixed_model_gpu, loss_fn, optimizer,image_dataloader_train, num_epochs=10)\n",
    "check_accuracy(fixed_model_gpu, image_dataloader_train)\n",
    "check_accuracy(fixed_model_gpu, image_dataloader_val)# check accuracy on the training set\n"
   ]
  },
  {
   "cell_type": "markdown",
   "metadata": {},
   "source": [
    "### 3D Convolution on video clips (25 points+10 extra points)\n",
    "3D convolution is for videos, it has one more dimension than 2d convolution. You can find the document for 3D convolution here http://pytorch.org/docs/master/nn.html#torch.nn.Conv3dIn. In our dataset, each clip is a video of 3 frames. Lets classify the each clip rather than each image using 3D convolution.\n",
    "We offer the data loader, the train_3d and check_accuracy"
   ]
  },
  {
   "cell_type": "code",
   "execution_count": 36,
   "metadata": {},
   "outputs": [
    {
     "name": "stdout",
     "output_type": "stream",
     "text": [
      "torch.Size([3, 3, 64, 64])\n",
      "0.0\n",
      "00001\n",
      "torch.Size([3, 3, 64, 64])\n",
      "0.0\n",
      "00002\n",
      "torch.Size([3, 3, 64, 64])\n",
      "0.0\n",
      "00003\n",
      "torch.Size([3, 3, 64, 64])\n",
      "0.0\n",
      "00004\n",
      "torch.Size([3, 3, 64, 64])\n",
      "0.0\n",
      "00005\n",
      "torch.Size([3, 3, 64, 64])\n",
      "0.0\n",
      "00006\n",
      "torch.Size([3, 3, 64, 64])\n",
      "0.0\n",
      "00007\n",
      "torch.Size([3, 3, 64, 64])\n",
      "0.0\n",
      "00008\n",
      "torch.Size([3, 3, 64, 64])\n",
      "0.0\n",
      "00009\n",
      "torch.Size([3, 3, 64, 64])\n",
      "0.0\n",
      "00010\n"
     ]
    }
   ],
   "source": [
    "class ActionClipDataset(Dataset):\n",
    "    \"\"\"Action Landmarks dataset.\"\"\"\n",
    "\n",
    "    def __init__(self,  root_dir,labels=[], transform=None):\n",
    "        \"\"\"\n",
    "        Args:\n",
    "            csv_file (string): Path to the csv file with annotations.\n",
    "            root_dir (string): Directory with all the images.\n",
    "            transform (callable, optional): Optional transform to be applied\n",
    "                on a sample.\n",
    "        \"\"\"\n",
    "        \n",
    "        self.root_dir = root_dir\n",
    "        self.transform = transform\n",
    "        self.length=len(os.listdir(self.root_dir))\n",
    "        self.labels=labels\n",
    "\n",
    "    def __len__(self):\n",
    "        return self.length\n",
    "\n",
    "    def __getitem__(self, idx):\n",
    "        \n",
    "        folder=idx+1\n",
    "        folder=format(folder,'05d')\n",
    "        clip=[]\n",
    "        if len(self.labels)!=0:\n",
    "            Label=self.labels[idx][0]-1\n",
    "        for i in range(3):\n",
    "            imidx=i+1\n",
    "            imgname=str(imidx)+'.jpg'\n",
    "            img_path = os.path.join(self.root_dir,\n",
    "                                    folder,imgname)\n",
    "            image = Image.open(img_path)\n",
    "            image=np.array(image)\n",
    "            clip.append(image)\n",
    "        if self.transform:\n",
    "            clip=np.asarray(clip)\n",
    "            clip=np.transpose(clip, (0,3,1,2))\n",
    "            clip = torch.from_numpy(np.asarray(clip))\n",
    "        if len(self.labels)!=0:\n",
    "            sample={'clip':clip,'Label':Label,'folder':folder}\n",
    "        else:\n",
    "            sample={'clip':clip,'folder':folder}\n",
    "        return sample\n",
    "\n",
    "clip_dataset=ActionClipDataset(root_dir='./data/trainClips/',\\\n",
    "                               labels=label_train,transform=T.ToTensor())#/home/tqvinh/Study/CSE512/cse512-s18/hw2data/trainClips/\n",
    "for i in range(10):\n",
    "    sample=clip_dataset[i]\n",
    "    print(sample['clip'].shape)\n",
    "    print(sample['Label'])\n",
    "    print(sample['folder'])"
   ]
  },
  {
   "cell_type": "code",
   "execution_count": 38,
   "metadata": {},
   "outputs": [
    {
     "name": "stdout",
     "output_type": "stream",
     "text": [
      "0 torch.Size([4, 3, 3, 64, 64]) ['00632', '02471', '03382', '02592'] tensor([0., 2., 3., 2.], dtype=torch.float64)\n",
      "1 torch.Size([4, 3, 3, 64, 64]) ['07182', '05483', '02763', '06876'] tensor([9., 6., 3., 8.], dtype=torch.float64)\n",
      "2 torch.Size([4, 3, 3, 64, 64]) ['03297', '04881', '01993', '05243'] tensor([3., 5., 2., 6.], dtype=torch.float64)\n",
      "3 torch.Size([4, 3, 3, 64, 64]) ['05755', '01419', '01948', '05711'] tensor([7., 1., 2., 7.], dtype=torch.float64)\n",
      "4 torch.Size([4, 3, 3, 64, 64]) ['03056', '01879', '07086', '03145'] tensor([3., 2., 8., 3.], dtype=torch.float64)\n",
      "5 torch.Size([4, 3, 3, 64, 64]) ['01901', '00480', '06495', '05095'] tensor([2., 0., 8., 6.], dtype=torch.float64)\n",
      "6 torch.Size([4, 3, 3, 64, 64]) ['06918', '05067', '04869', '03494'] tensor([8., 6., 5., 3.], dtype=torch.float64)\n",
      "7 torch.Size([4, 3, 3, 64, 64]) ['03368', '00171', '03752', '00559'] tensor([3., 0., 4., 0.], dtype=torch.float64)\n",
      "8 torch.Size([4, 3, 3, 64, 64]) ['06268', '00852', '01042', '03393'] tensor([7., 0., 1., 3.], dtype=torch.float64)\n",
      "9 torch.Size([4, 3, 3, 64, 64]) ['00555', '03613', '02545', '01848'] tensor([0., 4., 2., 2.], dtype=torch.float64)\n",
      "10 torch.Size([4, 3, 3, 64, 64]) ['00829', '03933', '03992', '07577'] tensor([0., 4., 4., 9.], dtype=torch.float64)\n",
      "11 torch.Size([4, 3, 3, 64, 64]) ['05975', '06034', '01262', '05361'] tensor([7., 7., 1., 6.], dtype=torch.float64)\n",
      "12 torch.Size([4, 3, 3, 64, 64]) ['01533', '03304', '05040', '05669'] tensor([1., 3., 6., 7.], dtype=torch.float64)\n",
      "13 torch.Size([4, 3, 3, 64, 64]) ['01065', '04845', '03191', '00036'] tensor([1., 5., 3., 0.], dtype=torch.float64)\n",
      "14 torch.Size([4, 3, 3, 64, 64]) ['00025', '05052', '03805', '01308'] tensor([0., 6., 4., 1.], dtype=torch.float64)\n",
      "15 torch.Size([4, 3, 3, 64, 64]) ['01863', '00985', '03969', '04774'] tensor([2., 1., 4., 5.], dtype=torch.float64)\n",
      "16 torch.Size([4, 3, 3, 64, 64]) ['06828', '06042', '05722', '03775'] tensor([8., 7., 7., 4.], dtype=torch.float64)\n",
      "17 torch.Size([4, 3, 3, 64, 64]) ['05585', '02350', '01954', '06560'] tensor([6., 2., 2., 8.], dtype=torch.float64)\n",
      "18 torch.Size([4, 3, 3, 64, 64]) ['02053', '02847', '01323', '00120'] tensor([2., 3., 1., 0.], dtype=torch.float64)\n",
      "19 torch.Size([4, 3, 3, 64, 64]) ['07457', '04274', '06469', '03417'] tensor([9., 5., 7., 3.], dtype=torch.float64)\n",
      "20 torch.Size([4, 3, 3, 64, 64]) ['02404', '01789', '00324', '00772'] tensor([2., 1., 0., 0.], dtype=torch.float64)\n",
      "21 torch.Size([4, 3, 3, 64, 64]) ['05896', '00749', '01046', '01985'] tensor([7., 0., 1., 2.], dtype=torch.float64)\n"
     ]
    }
   ],
   "source": [
    "clip_dataloader = DataLoader(clip_dataset, batch_size=4,\n",
    "                        shuffle=True, num_workers=0)\n",
    "\n",
    "\n",
    "for i,sample in enumerate(clip_dataloader):\n",
    "    print(i,sample['clip'].shape,sample['folder'],sample['Label'])\n",
    "    if i>20: \n",
    "        break"
   ]
  },
  {
   "cell_type": "code",
   "execution_count": 39,
   "metadata": {},
   "outputs": [],
   "source": [
    "clip_dataset_train=ActionClipDataset(root_dir='./data/trainClips/',labels=label_train,transform=T.ToTensor())\n",
    "\n",
    "clip_dataloader_train = DataLoader(clip_dataset_train, batch_size=16,\n",
    "                        shuffle=True, num_workers=0)\n",
    "clip_dataset_val=ActionClipDataset(root_dir='./data/valClips/',labels=label_val,transform=T.ToTensor())\n",
    "\n",
    "clip_dataloader_val = DataLoader(clip_dataset_val, batch_size=16,\n",
    "                        shuffle=True, num_workers=0)\n",
    "clip_dataset_test=ActionClipDataset(root_dir='./data/testClips/',labels=[],transform=T.ToTensor())\n",
    "\n",
    "clip_dataloader_test = DataLoader(clip_dataset_test, batch_size=16,\n",
    "                        shuffle=False, num_workers=0)"
   ]
  },
  {
   "cell_type": "markdown",
   "metadata": {},
   "source": [
    "Write the Flatten for 3d covolution feature maps."
   ]
  },
  {
   "cell_type": "code",
   "execution_count": 40,
   "metadata": {},
   "outputs": [],
   "source": [
    "class Flatten3d(nn.Module):\n",
    "    def forward(self, x):\n",
    "        ###############6th TODO (5 points)###################\n",
    "        N, C, D, H, W = x.size() # read in N, C, H, W, D\n",
    "        return x.view(N, -1)  # \"flatten\" the C * H * W * D values into a single vector per image\n",
    "    "
   ]
  },
  {
   "cell_type": "markdown",
   "metadata": {},
   "source": [
    "Design a network using 3D convolution on videos for video classification."
   ]
  },
  {
   "cell_type": "code",
   "execution_count": 43,
   "metadata": {},
   "outputs": [
    {
     "data": {
      "text/plain": [
       "True"
      ]
     },
     "execution_count": 43,
     "metadata": {},
     "output_type": "execute_result"
    }
   ],
   "source": [
    "fixed_model_3d = nn.Sequential( # You fill this in!\n",
    "    ###############7th TODO (20 points)#########################\n",
    "    nn.Conv3d(3, 32, kernel_size=(1,5,5), stride=1),\n",
    "    nn.ReLU(inplace=True),\n",
    "    nn.MaxPool3d(kernel_size=(1,2,2), stride=(1,2,2)),\n",
    "    #nn.BatchNorm2d(64),\n",
    "    #nn.Dropout(0.1),\n",
    "    \n",
    "    nn.Conv3d(32, 64, kernel_size=(1,3,3), stride=1),\n",
    "    nn.ReLU(inplace=True),\n",
    "    nn.MaxPool3d(kernel_size=(1,2,2), stride=(1,2,2)),\n",
    "    #nn.BatchNorm2d(128),\n",
    "    #nn.Dropout(0.2),\n",
    "    \n",
    "    nn.Conv3d(64, 128, kernel_size=(1,3,3), stride=1),\n",
    "    nn.ReLU(inplace=True),\n",
    "    nn.MaxPool3d(kernel_size=(1,2,2), stride=(1,2,2)),\n",
    "    #nn.BatchNorm3d(128),\n",
    "    #nn.Dropout(0.2),\n",
    "    \n",
    "    Flatten3d(), # see above for explanation\n",
    "    nn.Linear(13824, 1000),\n",
    "    nn.Dropout(0.5),\n",
    "    nn.Linear(1000, 500),\n",
    "    nn.Dropout(0.5),\n",
    "    nn.Linear(500, 10),\n",
    "    nn.LogSoftmax()\n",
    "            \n",
    ")\n",
    "\n",
    "fixed_model_3d = fixed_model_3d.type(dtype)\n",
    "x = torch.randn(32, 3, 3, 64, 64).type(dtype)\n",
    "x_var = Variable(x).type(dtype) # Construct a PyTorch Variable out of your input data\n",
    "ans = fixed_model_3d(x_var) \n",
    "np.array_equal(np.array(ans.size()), np.array([32, 10]))\n"
   ]
  },
  {
   "cell_type": "markdown",
   "metadata": {},
   "source": [
    "### Describe what you did (5 points)\n",
    "\n",
    "In the cell below you should write an explanation of what you did, any additional features that you implemented, and any visualizations or graphs that you make in the process of training and evaluating your network."
   ]
  },
  {
   "cell_type": "markdown",
   "metadata": {},
   "source": [
    "### 8th TODO Tell us here:\n",
    "1. 1X5X5 convolution layer with 32 filters and stride 1.\n",
    "2. ReLU layer.\n",
    "3. Max Pool layer with size 1X2X2 and stride 1X2X2.\n",
    "4. 1X3X3 convolution layer with 64 filters and stride 1.\n",
    "5. ReLU layer.\n",
    "6. Max Pool layer with size 1X2X2 and stride 1X2X2.\n",
    "7. 1X3X3 convolution layer with 128 filters and stride 1.\n",
    "8. ReLU layer.\n",
    "9. Max Pool layer with size 1X2X2 and stride 1X2X2.\n",
    "10. Flatten3d.\n",
    "11. Affine Layer to reduce inputs from 13824 to 1000.\n",
    "12. Dropout with penalty 0.5.\n",
    "13. Affine Layer to reduce inputs from 1000 to 500.\n",
    "14. Dropout with penalty 0.5.\n",
    "15. Affine Layer to reduce inputs from 500 to 10.\n",
    "16. LogSoftmax.\n",
    "\n",
    "Ran for 10 epochs and following accuracies are noted:\n",
    "Training Set Accuracy: 99.69\n",
    "Validation Set Accuracy: 66.41"
   ]
  },
  {
   "cell_type": "code",
   "execution_count": 46,
   "metadata": {},
   "outputs": [],
   "source": [
    "fixed_model_3d_gpu = copy.deepcopy(fixed_model_3d)#.type(gpu_dtype)\n",
    "#fixed_model_gpu = copy.deepcopy(fixed_model_base)#.type(gpu_dtype)\n",
    "fixed_model_3d_gpu.cuda()\n",
    "x_gpu = torch.randn(4,3, 3, 64, 64).cuda()#.type(gpu_dtype)\n",
    "x_var_gpu = Variable(x_gpu)#type(gpu_dtype)) # Construct a PyTorch Variable out of your input data\n",
    "ans = fixed_model_3d_gpu(x_var_gpu)\n",
    "\n",
    "loss_fn = nn.CrossEntropyLoss().type(dtype).cuda()\n",
    "#optimizer = optim.RMSprop(fixed_model_3d.parameters(), lr=1e-4)\n",
    "optimizer = optim.RMSprop(fixed_model_3d_gpu.parameters(), lr=1e-4)\n"
   ]
  },
  {
   "cell_type": "code",
   "execution_count": 47,
   "metadata": {},
   "outputs": [],
   "source": [
    "def train_3d(model, loss_fn, optimizer,dataloader,num_epochs = 1):\n",
    "    for epoch in range(num_epochs):\n",
    "        print('Starting epoch %d / %d' % (epoch + 1, num_epochs))\n",
    "        model.train()\n",
    "        for t, sample in enumerate(dataloader):\n",
    "            x_var = Variable(sample['clip'].type(dtype)).cuda()\n",
    "            y_var = Variable(sample['Label'].type(dtype).long()).cuda()\n",
    "\n",
    "            scores = model(x_var)\n",
    "            \n",
    "            loss = loss_fn(scores, y_var)\n",
    "            if (t + 1) % print_every == 0:\n",
    "                print('t = %d, loss = %.4f' % (t + 1, loss.data[0]))\n",
    "\n",
    "            optimizer.zero_grad()\n",
    "            loss.backward()\n",
    "            optimizer.step()\n",
    "\n",
    "def check_accuracy_3d(model, loader):\n",
    "    '''\n",
    "    if loader.dataset.train:\n",
    "        print('Checking accuracy on validation set')\n",
    "    else:\n",
    "        print('Checking accuracy on test set')  \n",
    "    '''\n",
    "    num_correct = 0\n",
    "    num_samples = 0\n",
    "    model.eval() # Put the model in test mode (the opposite of model.train(), essentially)\n",
    "    for t, sample in enumerate(loader):\n",
    "        x_var = Variable(sample['clip'].type(dtype)).cuda()\n",
    "        y_var = sample['Label'].type(dtype).cuda()\n",
    "        y_var=y_var.cpu()\n",
    "        scores = model(x_var)\n",
    "        _, preds = scores.data.cpu().max(1)\n",
    "        #print(preds)\n",
    "        #print(y_var)\n",
    "        num_correct += (preds.numpy() == y_var.numpy()).sum()\n",
    "        num_samples += preds.size(0)\n",
    "    acc = float(num_correct) / num_samples\n",
    "    print('Got %d / %d correct (%.2f)' % (num_correct, num_samples, 100 * acc))"
   ]
  },
  {
   "cell_type": "code",
   "execution_count": 74,
   "metadata": {},
   "outputs": [
    {
     "name": "stdout",
     "output_type": "stream",
     "text": [
      "Starting epoch 1 / 10\n"
     ]
    },
    {
     "name": "stderr",
     "output_type": "stream",
     "text": [
      "C:\\Users\\aks03\\Anaconda3\\envs\\torch-gpu\\lib\\site-packages\\ipykernel_launcher.py:13: UserWarning: invalid index of a 0-dim tensor. This will be an error in PyTorch 0.5. Use tensor.item() to convert a 0-dim tensor to a Python number\n",
      "  del sys.path[0]\n"
     ]
    },
    {
     "name": "stdout",
     "output_type": "stream",
     "text": [
      "t = 100, loss = 0.0000\n",
      "t = 200, loss = 0.0005\n",
      "t = 300, loss = 0.0000\n",
      "t = 400, loss = 0.0008\n",
      "Starting epoch 2 / 10\n",
      "t = 100, loss = 0.0001\n",
      "t = 200, loss = 0.0232\n",
      "t = 300, loss = 0.0021\n",
      "t = 400, loss = 0.0054\n",
      "Starting epoch 3 / 10\n",
      "t = 100, loss = 0.0251\n",
      "t = 200, loss = 0.0281\n",
      "t = 300, loss = 0.0312\n",
      "t = 400, loss = 0.1101\n",
      "Starting epoch 4 / 10\n",
      "t = 100, loss = 0.0110\n",
      "t = 200, loss = 0.0132\n",
      "t = 300, loss = 0.0001\n",
      "t = 400, loss = 0.0131\n",
      "Starting epoch 5 / 10\n",
      "t = 100, loss = 0.0000\n",
      "t = 200, loss = 0.0124\n",
      "t = 300, loss = 0.0032\n",
      "t = 400, loss = 0.0019\n",
      "Starting epoch 6 / 10\n",
      "t = 100, loss = 0.0002\n",
      "t = 200, loss = 0.0323\n",
      "t = 300, loss = 0.0350\n",
      "t = 400, loss = 0.0161\n",
      "Starting epoch 7 / 10\n",
      "t = 100, loss = 0.0008\n",
      "t = 200, loss = 0.0583\n",
      "t = 300, loss = 0.0006\n",
      "t = 400, loss = 0.0212\n",
      "Starting epoch 8 / 10\n",
      "t = 100, loss = 0.1207\n",
      "t = 200, loss = 0.0010\n",
      "t = 300, loss = 0.0050\n",
      "t = 400, loss = 0.0003\n",
      "Starting epoch 9 / 10\n",
      "t = 100, loss = 0.0247\n",
      "t = 200, loss = 0.0009\n",
      "t = 300, loss = 0.0085\n",
      "t = 400, loss = 0.0001\n",
      "Starting epoch 10 / 10\n",
      "t = 100, loss = 0.0008\n",
      "t = 200, loss = 0.0001\n",
      "t = 300, loss = 0.0050\n",
      "t = 400, loss = 0.0370\n",
      "Got 7746 / 7770 correct (99.69)\n",
      "Got 1481 / 2230 correct (66.41)\n"
     ]
    }
   ],
   "source": [
    "torch.cuda.random.manual_seed(12345)\n",
    "fixed_model_3d.apply(reset) \n",
    "fixed_model_3d.train() \n",
    "train_3d(fixed_model_3d_gpu, loss_fn, optimizer,clip_dataloader_train, num_epochs=10) \n",
    "fixed_model_3d.eval() \n",
    "check_accuracy_3d(fixed_model_3d_gpu, clip_dataloader_train)\n",
    "check_accuracy_3d(fixed_model_3d_gpu, clip_dataloader_val)"
   ]
  },
  {
   "cell_type": "markdown",
   "metadata": {
    "collapsed": true
   },
   "source": [
    "Test your 3d convolution model on the validation set. You don't need to submit the result of this part to kaggle.  "
   ]
  },
  {
   "cell_type": "markdown",
   "metadata": {
    "collapsed": true
   },
   "source": [
    "Test your model on the test set, predict_on_test_3d() will generate a file named 'results_3d.csv'. Please submit the csv file to kaggle https://www.kaggle.com/c/cse512springhw3video\n",
    "The highest 3 entries get extra 10 points.\n"
   ]
  },
  {
   "cell_type": "code",
   "execution_count": 50,
   "metadata": {},
   "outputs": [
    {
     "name": "stdout",
     "output_type": "stream",
     "text": [
      "3270\n"
     ]
    }
   ],
   "source": [
    "def predict_on_test_3d(model, loader):\n",
    "    '''\n",
    "    if loader.dataset.train:\n",
    "        print('Checking accuracy on validation set')\n",
    "    else:\n",
    "        print('Checking accuracy on test set')  \n",
    "    '''\n",
    "    num_correct = 0\n",
    "    num_samples = 0\n",
    "    model.eval() # Put the model in test mode (the opposite of model.train(), essentially)\n",
    "    results=open('results_3d.csv','w')\n",
    "    count=0\n",
    "    results.write('Id'+','+'Class'+'\\n')\n",
    "    for t, sample in enumerate(loader):\n",
    "        x_var = Variable(sample['clip'].type(dtype)).cuda()\n",
    "        scores = model(x_var)\n",
    "        _, preds = scores.data.cpu().max(1)\n",
    "        for i in range(len(preds)):\n",
    "            results.write(str(count)+','+str(preds[i].numpy())+'\\n')\n",
    "            count+=1\n",
    "    results.close()\n",
    "    return count\n",
    "    \n",
    "count=predict_on_test_3d(fixed_model_3d_gpu, clip_dataloader_test)\n",
    "print(count)"
   ]
  },
  {
   "cell_type": "code",
   "execution_count": null,
   "metadata": {
    "collapsed": true
   },
   "outputs": [],
   "source": []
  }
 ],
 "metadata": {
  "kernelspec": {
   "display_name": "Python 3",
   "language": "python",
   "name": "python3"
  },
  "language_info": {
   "codemirror_mode": {
    "name": "ipython",
    "version": 3
   },
   "file_extension": ".py",
   "mimetype": "text/x-python",
   "name": "python",
   "nbconvert_exporter": "python",
   "pygments_lexer": "ipython3",
   "version": "3.6.5"
  }
 },
 "nbformat": 4,
 "nbformat_minor": 1
}
