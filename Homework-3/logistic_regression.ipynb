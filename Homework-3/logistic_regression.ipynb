{
 "cells": [
  {
   "cell_type": "markdown",
   "metadata": {},
   "source": [
    "## Logistic Regression with SGD"
   ]
  },
  {
   "cell_type": "markdown",
   "metadata": {},
   "source": [
    "To begin you first need to install all dependencies, using:\n",
    "\n",
    "    pip install -r requirements.txt"
   ]
  },
  {
   "cell_type": "code",
   "execution_count": 14,
   "metadata": {},
   "outputs": [
    {
     "name": "stdout",
     "output_type": "stream",
     "text": [
      "Requirement already satisfied: numpy in /Users/manideepattanti/anaconda3/lib/python3.6/site-packages (from -r requirements.txt (line 1)) (1.14.3)\n",
      "Requirement already satisfied: scikit-image in /Users/manideepattanti/anaconda3/lib/python3.6/site-packages (from -r requirements.txt (line 2)) (0.13.1)\n",
      "Requirement already satisfied: matplotlib in /Users/manideepattanti/anaconda3/lib/python3.6/site-packages (from -r requirements.txt (line 3)) (2.2.2)\n",
      "Requirement already satisfied: sklearn in /Users/manideepattanti/anaconda3/lib/python3.6/site-packages (from -r requirements.txt (line 4)) (0.0)\n",
      "Requirement already satisfied: pandas in /Users/manideepattanti/anaconda3/lib/python3.6/site-packages (from -r requirements.txt (line 5)) (0.23.0)\n",
      "Requirement already satisfied: six>=1.7.3 in /Users/manideepattanti/anaconda3/lib/python3.6/site-packages (from scikit-image->-r requirements.txt (line 2)) (1.11.0)\n",
      "Requirement already satisfied: networkx>=1.8 in /Users/manideepattanti/anaconda3/lib/python3.6/site-packages (from scikit-image->-r requirements.txt (line 2)) (2.1)\n",
      "Requirement already satisfied: pillow>=2.1.0 in /Users/manideepattanti/anaconda3/lib/python3.6/site-packages (from scikit-image->-r requirements.txt (line 2)) (5.1.0)\n",
      "Requirement already satisfied: PyWavelets>=0.4.0 in /Users/manideepattanti/anaconda3/lib/python3.6/site-packages (from scikit-image->-r requirements.txt (line 2)) (0.5.2)\n",
      "Requirement already satisfied: cycler>=0.10 in /Users/manideepattanti/anaconda3/lib/python3.6/site-packages (from matplotlib->-r requirements.txt (line 3)) (0.10.0)\n",
      "Requirement already satisfied: pyparsing!=2.0.4,!=2.1.2,!=2.1.6,>=2.0.1 in /Users/manideepattanti/anaconda3/lib/python3.6/site-packages (from matplotlib->-r requirements.txt (line 3)) (2.2.0)\n",
      "Requirement already satisfied: python-dateutil>=2.1 in /Users/manideepattanti/anaconda3/lib/python3.6/site-packages (from matplotlib->-r requirements.txt (line 3)) (2.7.3)\n",
      "Requirement already satisfied: pytz in /Users/manideepattanti/anaconda3/lib/python3.6/site-packages (from matplotlib->-r requirements.txt (line 3)) (2018.4)\n",
      "Requirement already satisfied: kiwisolver>=1.0.1 in /Users/manideepattanti/anaconda3/lib/python3.6/site-packages (from matplotlib->-r requirements.txt (line 3)) (1.0.1)\n",
      "Requirement already satisfied: scikit-learn in /Users/manideepattanti/anaconda3/lib/python3.6/site-packages (from sklearn->-r requirements.txt (line 4)) (0.19.1)\n",
      "Requirement already satisfied: decorator>=4.1.0 in /Users/manideepattanti/anaconda3/lib/python3.6/site-packages (from networkx>=1.8->scikit-image->-r requirements.txt (line 2)) (4.3.0)\n",
      "Requirement already satisfied: setuptools in /Users/manideepattanti/anaconda3/lib/python3.6/site-packages (from kiwisolver>=1.0.1->matplotlib->-r requirements.txt (line 3)) (39.1.0)\n"
     ]
    }
   ],
   "source": [
    "!pip install -r requirements.txt"
   ]
  },
  {
   "cell_type": "code",
   "execution_count": 5,
   "metadata": {},
   "outputs": [],
   "source": [
    "import numpy as np\n",
    "import matplotlib.pyplot as plt\n",
    "\n",
    "from math import exp, log\n",
    "import os\n",
    "import pickle\n",
    "\n",
    "from skimage import io\n",
    "from skimage.color import rgb2gray\n",
    "from skimage.feature import hog\n",
    "\n",
    "from sklearn.metrics import accuracy_score\n",
    "from sklearn.metrics import precision_recall_curve\n",
    "from sklearn.metrics import roc_curve, roc_auc_score, average_precision_score\n",
    "import random"
   ]
  },
  {
   "cell_type": "code",
   "execution_count": 6,
   "metadata": {},
   "outputs": [],
   "source": [
    "%matplotlib inline"
   ]
  },
  {
   "cell_type": "markdown",
   "metadata": {},
   "source": [
    "### load the dataset"
   ]
  },
  {
   "cell_type": "code",
   "execution_count": 7,
   "metadata": {},
   "outputs": [],
   "source": [
    "### set your image dir here\n",
    "IMAGE_DIR = \"/Users/manideepattanti/Acads/SEM1/ML/hw3/upload_folder/all/\""
   ]
  },
  {
   "cell_type": "code",
   "execution_count": 8,
   "metadata": {},
   "outputs": [],
   "source": [
    "def load_dataset(subset=\"train\"):\n",
    "    \"\"\"\n",
    "    1. subset = \"train\", \"val\", \"test\"\n",
    "    2. About the dataset: in \"train\",\"val\" subset, the first half of images are images of hands, the rest half are images of not-hand. \n",
    "    3. extract features from HoG\n",
    "    \"\"\"\n",
    "    path = os.path.join(IMAGE_DIR,subset)\n",
    "    name_list = os.listdir(path)\n",
    "    print(\"Number of images in {}-set: {}\".format(subset, len(name_list)))\n",
    "    #HoG returns 324 features\n",
    "    X = np.zeros(shape=(len(name_list), 324))\n",
    "\n",
    "    if subset == \"train\" or subset == \"val\":\n",
    "        #Make sure that we have equal number of positive and negative class images\n",
    "        assert len(name_list)%2 == 0\n",
    "        count = len(name_list)//2\n",
    "        y = np.array(count*[1] + count*[0])\n",
    "        for idx_true in range(count):\n",
    "            img_name = os.path.join(path,str(idx_true)+\".png\")\n",
    "            img = io.imread(img_name)\n",
    "            img = rgb2gray(img)\n",
    "            vec = hog(img)\n",
    "            X[idx_true, :] = vec\n",
    "        \n",
    "        for idx in range(count):\n",
    "            idx_false = idx + count\n",
    "            img_name = os.path.join(path,str(idx_false)+\".png\")\n",
    "            img = io.imread(img_name)\n",
    "            img = rgb2gray(img)\n",
    "            vec = hog(img)\n",
    "            X[idx_false, :] = vec\n",
    "        return X, y        \n",
    "    else:\n",
    "        for idx in range(len(name_list)):\n",
    "            img_name = os.path.join(path, str(idx)+\".png\")\n",
    "            img = io.imread(img_name)\n",
    "            img = rgb2gray(img)\n",
    "            vec = hog(img)\n",
    "            X[idx, :] = vec\n",
    "        return X"
   ]
  },
  {
   "cell_type": "markdown",
   "metadata": {},
   "source": [
    "### load the data"
   ]
  },
  {
   "cell_type": "code",
   "execution_count": 9,
   "metadata": {},
   "outputs": [
    {
     "name": "stdout",
     "output_type": "stream",
     "text": [
      "Number of images in train-set: 8170\n"
     ]
    },
    {
     "name": "stderr",
     "output_type": "stream",
     "text": [
      "/Users/manideepattanti/anaconda3/lib/python3.6/site-packages/skimage/feature/_hog.py:119: skimage_deprecation: Default value of `block_norm`==`L1` is deprecated and will be changed to `L2-Hys` in v0.15\n",
      "  'be changed to `L2-Hys` in v0.15', skimage_deprecation)\n"
     ]
    },
    {
     "name": "stdout",
     "output_type": "stream",
     "text": [
      "Number of images in val-set: 2724\n",
      "Number of images in test-set: 5542\n"
     ]
    }
   ],
   "source": [
    "X_train, y_train = load_dataset(\"train\")\n",
    "X_val, y_val = load_dataset(\"val\")\n",
    "X_test = load_dataset(\"test\")"
   ]
  },
  {
   "cell_type": "markdown",
   "metadata": {},
   "source": [
    "### displaying images"
   ]
  },
  {
   "cell_type": "code",
   "execution_count": 10,
   "metadata": {},
   "outputs": [],
   "source": [
    "def display(img_path):\n",
    "    \"\"\"\n",
    "    visualize the img\n",
    "    \"\"\"\n",
    "    img = io.imread(img_path)\n",
    "    print(img_path)\n",
    "    io.imshow(img)\n",
    "    io.show()"
   ]
  },
  {
   "cell_type": "code",
   "execution_count": 11,
   "metadata": {},
   "outputs": [
    {
     "name": "stdout",
     "output_type": "stream",
     "text": [
      "/Users/manideepattanti/Acads/SEM1/ML/hw3/upload_folder/all/train/1.png\n"
     ]
    },
    {
     "name": "stderr",
     "output_type": "stream",
     "text": [
      "/Users/manideepattanti/anaconda3/lib/python3.6/site-packages/skimage/io/_plugins/matplotlib_plugin.py:51: FutureWarning: Conversion of the second argument of issubdtype from `float` to `np.floating` is deprecated. In future, it will be treated as `np.float64 == np.dtype(float).type`.\n",
      "  out_of_range_float = (np.issubdtype(image.dtype, np.float) and\n",
      "/Users/manideepattanti/anaconda3/lib/python3.6/site-packages/matplotlib/axes/_base.py:1400: MatplotlibDeprecationWarning: The 'box-forced' keyword argument is deprecated since 2.2.\n",
      "  \" since 2.2.\", cbook.mplDeprecation)\n"
     ]
    },
    {
     "data": {
      "image/png": "[encoded data removed]",
      "text/plain": [
       "<Figure size 432x288 with 1 Axes>"
      ]
     },
     "metadata": {},
     "output_type": "display_data"
    }
   ],
   "source": [
    "display(IMAGE_DIR+\"train/1.png\")"
   ]
  },
  {
   "cell_type": "markdown",
   "metadata": {},
   "source": [
    "### Logistic regression"
   ]
  },
  {
   "cell_type": "markdown",
   "metadata": {},
   "source": [
    "#### Main function in the class\n",
    "1. \\__init\\__() which sets the hyper parameters\n",
    "2. sigmoid()\n",
    "3. __init_param(), initializes the parameters .\n",
    "4. fit(): train the data\n",
    "5. predict_proba(): predict the probability of the sample belonging to the positive class\n",
    "6. predict(): classify the sample\n",
    "\n",
    "\n",
    "Feel free to overlook the rest of the parts of the code, it's just for convenience.\n"
   ]
  },
  {
   "cell_type": "code",
   "execution_count": 14,
   "metadata": {},
   "outputs": [],
   "source": [
    "class LogisticRegression:\n",
    "    \"\"\"\n",
    "    Logistic Regression\n",
    "    \"\"\"\n",
    "    def __init__(self, eta0=0.1, eta1=1, m=16, max_epoch=1000, delta=0.0001):\n",
    "        \"\"\"\n",
    "        m is the batch_size\n",
    "        \"\"\"\n",
    "        self.__init = True # whether to initial the parameters\n",
    "        self.__eta0 = eta0\n",
    "        self.__eta1 = eta1\n",
    "        self.__delta = delta\n",
    "        self.__m = m\n",
    "        self.__max_epoch = max_epoch\n",
    "        \n",
    "    def sigmoid(self, x):\n",
    "        return 1.0 / (1 + np.exp(-x))\n",
    "    \n",
    "    def __init_param(self):\n",
    "        \"\"\"\n",
    "        Weights initialized using a normal distribution here: you can change the distribution.\n",
    "        \"\"\"\n",
    "        d = self.__dimension\n",
    "        self.__wt = np.random.randn(1,d)\n",
    "        self.__bias = np.random.randn()\n",
    "        return self.__wt,self.__bias\n",
    "    \n",
    "    def log_likelihood(self, X, y, theta):\n",
    "        sigmoid_val = self.sigmoid(np.dot(X, theta))\n",
    "        val1 = np.dot(y, np.log(sigmoid_val))\n",
    "        val2 = np.dot((1 - y), np.log(1 - sigmoid_val))\n",
    "        ll = val1 + val2\n",
    "        return (-1/len(y)) * ll\n",
    "\n",
    "    def log_likelihood_differential(self, X, y, theta):\n",
    "        lld = np.dot(np.transpose(X), (self.sigmoid(np.dot(X, theta)) - y))\n",
    "        return lld / len(y)\n",
    "    \n",
    "    def fit(self, X, y, X_val=None, y_val=None):\n",
    "        \"\"\"\n",
    "        Recommended input:\n",
    "        X: n x d array,\n",
    "        y: n x 1 array or list\n",
    "        \"\"\"\n",
    "        \n",
    "        n, d = X.shape\n",
    "        self.__dimension = d\n",
    "        \n",
    "        if self.__init:\n",
    "            self.__init_param()\n",
    "        \n",
    "        ### write your code here ### \n",
    "        array_1 = np.transpose(np.asarray([[1]*n], dtype=float))\n",
    "        X_bar = np.concatenate((X, array_1), axis=1)\n",
    "        y_orig = y\n",
    "        theta = np.append(self.__wt, self.__bias)\n",
    "        num_epoch = 0\n",
    "        train_accuracy_array = []\n",
    "        val_accuracy_array = []\n",
    "        L_theta_old = 1000\n",
    "        L_theta_train_array = [1000]\n",
    "        L_theta_val_array = [1000]\n",
    "        for i in range(1, self.__max_epoch + 1):\n",
    "            eta = self.__eta0/(self.__eta1 + i)\n",
    "            merged_list = list(zip(X_bar, y))\n",
    "            random.shuffle(merged_list)\n",
    "            X_bar, y = zip(*merged_list)\n",
    "            X_bar = np.asarray(X_bar)\n",
    "            y = np.asarray(y)\n",
    "            num_batches = int(n / self.__m) + 1\n",
    "            for i in range(num_batches):\n",
    "                X_batch = X_bar[i * self.__m:min((i+1) * self.__m, n)]\n",
    "                y_batch = y[i * self.__m:min((i+1) * self.__m, n)]\n",
    "                theta = theta - (eta * self.log_likelihood_differential(X_batch, y_batch, theta))\n",
    "            self.__wt = theta[:-1]\n",
    "            self.__bias = theta[-1]\n",
    "            y_train_pred = self.predict(X)\n",
    "            train_accuracy_array.append((y_train_pred == y_orig).mean())\n",
    "            if y_val.all() != None:\n",
    "                array_val_1 = np.transpose(np.asarray([[1]*X_val.shape[0]], dtype=float))\n",
    "                X_val_bar = np.concatenate((X_val, array_val_1), axis=1)\n",
    "                y_val_pred = self.predict(X_val)\n",
    "                val_accuracy_array.append((y_val_pred == y_val).mean())\n",
    "                L_theta_val = self.log_likelihood(X_val_bar, y_val, theta)\n",
    "                L_theta_val_array.append(L_theta_val)\n",
    "            L_theta_new = self.log_likelihood(X_bar, y, theta)\n",
    "            L_theta_train_array.append(L_theta_new)\n",
    "            num_epoch = num_epoch + 1\n",
    "            if L_theta_new > (1 - self.__delta) * L_theta_old:\n",
    "                break\n",
    "            L_theta_old = L_theta_new\n",
    "        self.__wt = theta[:-1]\n",
    "        self.__bias = theta[-1]\n",
    "        ############################\n",
    "        return num_epoch, L_theta_train_array, L_theta_val_array, train_accuracy_array, val_accuracy_array\n",
    "    \n",
    "    def predict_proba(self, X):\n",
    "        \"\"\"\n",
    "        predict the probility of the sample\n",
    "        You can refer to my code below\n",
    "        \"\"\"\n",
    "        theta = np.append(self.__wt, self.__bias)\n",
    "        array_1 = np.transpose(np.asarray([[1]*X.shape[0]], dtype=float))\n",
    "        X_bar = np.concatenate((X, array_1), axis=1)\n",
    "        val = np.dot(np.transpose(theta), np.transpose(X_bar))\n",
    "        return self.sigmoid(val)\n",
    "    \n",
    "    def predict(self, X):\n",
    "        \"\"\"\n",
    "        Classify the sample\n",
    "        \"\"\"\n",
    "        return (self.predict_proba(X) >= 0.5).astype(int)\n",
    "    \n",
    "    def get_param(self):\n",
    "        \"\"\"\n",
    "        output:\n",
    "            parameters: wt(1*d array), b(scalar)\n",
    "        \"\"\"\n",
    "        return [self.__wt, self.__bias]\n",
    "    \n",
    "    def save_model(self, save_file):\n",
    "        \"\"\"\n",
    "        save model to .pkl file\n",
    "        \"\"\"\n",
    "        with open(save_file,\"wb\") as file:\n",
    "            pickle.dump([self.__wt, self.__bias],file)\n",
    "\n",
    "    def load_model(self, load_file):\n",
    "        \"\"\"\n",
    "        load model from .pkl file\n",
    "        \"\"\"\n",
    "        with open(load_file,\"rb\") as file:\n",
    "            param = pickle.load(file)\n",
    "        self.__wt = param[0]\n",
    "        self.__bias = param[1]\n",
    "        self.__init = False\n",
    "        return self.__wt, self.__bias"
   ]
  },
  {
   "cell_type": "markdown",
   "metadata": {},
   "source": [
    "## Question 2.3"
   ]
  },
  {
   "cell_type": "markdown",
   "metadata": {
    "scrolled": true
   },
   "source": [
    "### 1. Baseline Model"
   ]
  },
  {
   "cell_type": "code",
   "execution_count": 345,
   "metadata": {
    "scrolled": true
   },
   "outputs": [
    {
     "name": "stdout",
     "output_type": "stream",
     "text": [
      "373\n"
     ]
    }
   ],
   "source": [
    "LR = LogisticRegression()\n",
    "num_epochs, L_theta_array_train, L_theta_array_val, accuracy_array_train, accuracy_array_val = LR.fit(X_train,y_train, X_val, y_val)\n",
    "print(num_epochs)"
   ]
  },
  {
   "cell_type": "markdown",
   "metadata": {},
   "source": [
    "(a) Number of epochs till termination = 373"
   ]
  },
  {
   "cell_type": "code",
   "execution_count": 346,
   "metadata": {},
   "outputs": [
    {
     "name": "stdout",
     "output_type": "stream",
     "text": [
      "L(theta) after optimization 0.5196598086704581\n"
     ]
    },
    {
     "data": {
      "image/png": "[encoded data removed]",
      "text/plain": [
       "<Figure size 432x288 with 1 Axes>"
      ]
     },
     "metadata": {},
     "output_type": "display_data"
    }
   ],
   "source": [
    "# (b) Plot L(theta) vs num_epochs\n",
    "plt.plot(L_theta_array_train[1:])\n",
    "plt.xlabel('num_epochs')\n",
    "plt.ylabel('L(theta)')\n",
    "print(\"L(theta) after optimization\", L_theta_array_train[-1])"
   ]
  },
  {
   "cell_type": "markdown",
   "metadata": {},
   "source": [
    "(c) Final value of L($\\theta$) after optimization = 0.5196598086704581"
   ]
  },
  {
   "cell_type": "markdown",
   "metadata": {},
   "source": [
    "### 2. Experimenting with ($\\eta_0$,$\\eta_1$)"
   ]
  },
  {
   "cell_type": "code",
   "execution_count": 15,
   "metadata": {},
   "outputs": [
    {
     "name": "stdout",
     "output_type": "stream",
     "text": [
      "0.1 1 332 0.5057255948766882 0.5073352649349249 0.8194614443084456 0.8190161527165932\n",
      "0.2 1 382 0.45182498406637794 0.44856965492134193 0.8317013463892289 0.8388399412628488\n",
      "0.4 1 385 0.3915452719934143 0.3846349756874715 0.8550795593635251 0.8604992657856094\n",
      "0.8 1 319 0.3418967934477724 0.34124807556354153 0.87062423500612 0.8718795888399412\n",
      "1.6 1 263 0.3075027739107094 0.3057974778976453 0.8833537331701347 0.8854625550660793\n",
      "3.2 1 35 0.3003521244981595 0.3008726702585439 0.8839657282741739 0.8803230543318649\n",
      "6.4 1 14 0.28773104119135495 0.2887811222485853 0.8905752753977968 0.8865638766519823\n",
      "12.8 1 2 0.3327035742026436 0.33791383634060096 0.8673194614443085 0.8593979441997063\n",
      "25.6 1 2 0.3520980987837249 0.36289289001953384 0.8460220318237454 0.8373715124816447\n",
      "51.2 1 2 0.37702100595290866 0.3646125239537728 0.8467564259485925 0.855359765051395\n",
      "102.4 1 4 0.3492812066854029 0.38735495680850734 0.877233782129743 0.8678414096916299\n"
     ]
    },
    {
     "name": "stderr",
     "output_type": "stream",
     "text": [
      "/Users/manideepattanti/anaconda3/lib/python3.6/site-packages/ipykernel_launcher.py:31: RuntimeWarning: divide by zero encountered in log\n"
     ]
    },
    {
     "name": "stdout",
     "output_type": "stream",
     "text": [
      "204.8 1 5 0.6717978057731866 0.6639936375506705 0.8455324357405141 0.8472834067547724\n",
      "409.6 1 12 0.5361882942207498 0.6309478202295474 0.8654834761321909 0.8586637298091042\n",
      "819.2 1 27 0.46436867945690685 0.5709104786035497 0.8753977968176254 0.8671071953010279\n",
      "1638.4 1 52 0.3682324373352419 0.45713369435488327 0.8962056303549572 0.8781204111600588\n"
     ]
    }
   ],
   "source": [
    "# Experimentation code goes here\n",
    "e0 = 0.1\n",
    "e1 = 1 \n",
    "for i in range(1, 16):\n",
    "    LR = LogisticRegression(eta0=e0, eta1=e1)\n",
    "    num_epoch, L_theta_array_train, L_theta_array_val, accuracy_array_train, accuracy_array_val = LR.fit(X_train, y_train, X_val, y_val)\n",
    "    print(e0, e1, num_epoch, L_theta_array_train[-1], L_theta_array_val[-1], accuracy_array_train[-1], accuracy_array_val[-1])\n",
    "    e0 = e0 * 2\n",
    "# Keeping the value of eta1 constant and changing the value of eta0"
   ]
  },
  {
   "cell_type": "markdown",
   "metadata": {},
   "source": [
    "(a) Best value for, $\\eta_0$ = \\6.4, $\\eta_1$ = \\1\n",
    "\n",
    "Number of epochs for training = 14\n",
    "\n",
    "Final value of L($\\theta$) = 0.28773104119135495"
   ]
  },
  {
   "cell_type": "code",
   "execution_count": 18,
   "metadata": {},
   "outputs": [
    {
     "name": "stdout",
     "output_type": "stream",
     "text": [
      "14\n"
     ]
    },
    {
     "data": {
      "image/png": "[encoded data removed]",
      "text/plain": [
       "<Figure size 432x288 with 1 Axes>"
      ]
     },
     "metadata": {},
     "output_type": "display_data"
    }
   ],
   "source": [
    "# (b) For best (eta_0, eta_1) plot L(theta) vs num_epochs\n",
    "LR = LogisticRegression(eta0=6.4, eta1=1)\n",
    "num_epochs, L_theta_array_train, L_theta_array_val, accuracy_array_train, accuracy_array_val = LR.fit(X_train,y_train, X_val, y_val)\n",
    "print(num_epochs)\n",
    "plt.plot(L_theta_array_train[1:])\n",
    "plt.xlabel('num_epochs')\n",
    "plt.ylabel('L(theta)')\n",
    "plt.show()"
   ]
  },
  {
   "cell_type": "markdown",
   "metadata": {},
   "source": [
    "### 3. Evaluating on validation set"
   ]
  },
  {
   "cell_type": "code",
   "execution_count": 347,
   "metadata": {},
   "outputs": [
    {
     "data": {
      "text/plain": [
       "<matplotlib.legend.Legend at 0x1c2263d5c0>"
      ]
     },
     "execution_count": 347,
     "metadata": {},
     "output_type": "execute_result"
    },
    {
     "data": {
      "image/png": "[encoded data removed]",
      "text/plain": [
       "<Figure size 432x288 with 1 Axes>"
      ]
     },
     "metadata": {},
     "output_type": "display_data"
    }
   ],
   "source": [
    "# (a) Plot L(theta) vs num_epochs for both training and validation set on the same figure\n",
    "LR = LogisticRegression()\n",
    "num_epochs, L_theta_array_train, L_theta_array_val, accuracy_array_train, accuracy_array_val = LR.fit(X_train,y_train, X_val, y_val)\n",
    "plt.plot(L_theta_array_train[1:], label=\"Training L(theta)\")\n",
    "plt.plot(L_theta_array_val[1:], label=\"Validation L(theta)\")\n",
    "plt.xlabel('num_epochs')\n",
    "plt.ylabel('L(theta)')\n",
    "plt.legend()"
   ]
  },
  {
   "cell_type": "code",
   "execution_count": 348,
   "metadata": {
    "scrolled": true
   },
   "outputs": [
    {
     "data": {
      "text/plain": [
       "<matplotlib.legend.Legend at 0x1c1e7302b0>"
      ]
     },
     "execution_count": 348,
     "metadata": {},
     "output_type": "execute_result"
    },
    {
     "data": {
      "image/png": "[encoded data removed]",
      "text/plain": [
       "<Figure size 432x288 with 1 Axes>"
      ]
     },
     "metadata": {},
     "output_type": "display_data"
    }
   ],
   "source": [
    "# (b) Plot Accuracy vs num_epochs for both training and validation set on the same figure\n",
    "plt.plot(accuracy_array_train, label=\"Training accuracy\")\n",
    "plt.plot(accuracy_array_val, label=\"Validation accuracy\")\n",
    "plt.xlabel('num_epochs')\n",
    "plt.ylabel('Accuracy')\n",
    "plt.legend()"
   ]
  },
  {
   "cell_type": "markdown",
   "metadata": {},
   "source": [
    "### 4. ROC and Precision-Recall curves"
   ]
  },
  {
   "cell_type": "code",
   "execution_count": 353,
   "metadata": {},
   "outputs": [
    {
     "data": {
      "image/png": "[encoded data removed]",
      "text/plain": [
       "<Figure size 432x288 with 1 Axes>"
      ]
     },
     "metadata": {},
     "output_type": "display_data"
    },
    {
     "name": "stdout",
     "output_type": "stream",
     "text": [
      "0.8080029368575624\n"
     ]
    }
   ],
   "source": [
    "#(a) Plot ROC curve on validation data\n",
    "y_pred = LR.predict(X_val)\n",
    "fpr, tpr, _ = roc_curve(y_val, y_pred)\n",
    "plt.plot(fpr, tpr)\n",
    "plt.xlabel('FPR')\n",
    "plt.ylabel('TPR')\n",
    "plt.show()\n",
    "print(roc_auc_score(y_val, y_pred))"
   ]
  },
  {
   "cell_type": "markdown",
   "metadata": {},
   "source": [
    "Area under curve = 0.8080029368575624"
   ]
  },
  {
   "cell_type": "code",
   "execution_count": 354,
   "metadata": {},
   "outputs": [
    {
     "data": {
      "image/png": "[encoded data removed]",
      "text/plain": [
       "<Figure size 432x288 with 1 Axes>"
      ]
     },
     "metadata": {},
     "output_type": "display_data"
    },
    {
     "name": "stdout",
     "output_type": "stream",
     "text": [
      "0.7383954801934758\n"
     ]
    }
   ],
   "source": [
    "#(a) Plot Precision-Recall curve on validation data\n",
    "precision, recall, _ = precision_recall_curve(y_val, y_pred)\n",
    "plt.plot(recall, precision)\n",
    "plt.xlabel('Recall')\n",
    "plt.ylabel('Precision')\n",
    "plt.show()\n",
    "print(average_precision_score(y_val, y_pred))"
   ]
  },
  {
   "cell_type": "code",
   "execution_count": null,
   "metadata": {
    "collapsed": true
   },
   "outputs": [],
   "source": [
    "Average Precision = 0.7383954801934758"
   ]
  },
  {
   "cell_type": "markdown",
   "metadata": {},
   "source": [
    "## Question 2.4"
   ]
  },
  {
   "cell_type": "markdown",
   "metadata": {},
   "source": [
    "### 1. Submission"
   ]
  },
  {
   "cell_type": "code",
   "execution_count": 287,
   "metadata": {},
   "outputs": [],
   "source": [
    "import pandas as pd\n",
    "def submission(y_pred):\n",
    "    \"\"\"\n",
    "    generate the submission.csv for kaggle\n",
    "    input args:\n",
    "        y_pred: 5542x1 array or list contains 5542 elements\n",
    "        \n",
    "    \"\"\"\n",
    "    save_file = pd.DataFrame(columns=[\"Id\",\"Class\"])\n",
    "    id = np.array([idx for idx in range(5542)])\n",
    "    save_file[\"Id\"] = id\n",
    "    save_file[\"Class\"]= y_pred\n",
    "    save_file.to_csv(\"submission4.csv\",index=0)       "
   ]
  },
  {
   "cell_type": "markdown",
   "metadata": {},
   "source": [
    "#### Generate the submission.csv"
   ]
  },
  {
   "cell_type": "code",
   "execution_count": 351,
   "metadata": {},
   "outputs": [],
   "source": [
    "# code goes here\n",
    "LR_pred = LogisticRegression(eta0=101, eta1=1, m=8, max_epoch=1000)\n",
    "X = np.concatenate((X_train, X_val))\n",
    "y = np.concatenate((y_train, y_val))\n",
    "LR_pred.fit(X, y, X_val, y_val)\n",
    "y_test = LR_pred.predict(X_test)\n",
    "# print((y_pred == y_val).mean())\n",
    "submission(y_test)"
   ]
  },
  {
   "cell_type": "markdown",
   "metadata": {},
   "source": [
    "Best obtained accuracy on Public Leader-board = 88.704%"
   ]
  },
  {
   "cell_type": "code",
   "execution_count": null,
   "metadata": {
    "collapsed": true
   },
   "outputs": [],
   "source": []
  }
 ],
 "metadata": {
  "kernelspec": {
   "display_name": "Python 3",
   "language": "python",
   "name": "python3"
  },
  "language_info": {
   "codemirror_mode": {
    "name": "ipython",
    "version": 3
   },
   "file_extension": ".py",
   "mimetype": "text/x-python",
   "name": "python",
   "nbconvert_exporter": "python",
   "pygments_lexer": "ipython3",
   "version": "3.6.5"
  }
 },
 "nbformat": 4,
 "nbformat_minor": 2
}
